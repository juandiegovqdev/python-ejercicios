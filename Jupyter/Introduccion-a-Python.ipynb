{
 "cells": [
  {
   "cell_type": "markdown",
   "metadata": {},
   "source": [
    "# Python básico\n",
    "\n",
    "_José Luis Ruiz Reina<br>\n",
    "Francisco Jesús Martín Mateos<br>\n",
    "Departamento de Ciencias de la Computación e Inteligencia Artificial<br>\n",
    "Universidad de Sevila_\n",
    "\n",
    "En esta hoja de trabajo vamos a ver lo esencial de Python para poder empezar a practicar con el lenguaje. \n",
    "\n",
    "Algunos hechos a destacar sobre Python:\n",
    "\n",
    "* Creado a principios de los 90 por Guido van Rossum (el nombre procede del programa de la BBC “Monty Python’s Flying Circus”)\n",
    "* Es un “poderoso” lenguaje de programación “fácil” de aprender\n",
    "* Es interpretado, con tipado dinámico y multiplataforma\n",
    "* Cuenta con una amplia biblioteca estándar, y con una extensísima colección de aplicaciones desarrolladas \n",
    "* Uno de los lenguajes predominantes en Ciencia del Dato\n",
    "* Web oficial de Python: http://www.python.org\n",
    "* Paradigmas de programación:\n",
    " - Programación orientada a objetos\n",
    " - Programación imperativa\n",
    " - Programación funcional\n"
   ]
  },
  {
   "cell_type": "markdown",
   "metadata": {},
   "source": [
    "### 0. El entorno de trabajo *Jupyter*"
   ]
  },
  {
   "cell_type": "markdown",
   "metadata": {},
   "source": [
    "Este es el entorno de trabajo que vamos a utilizar en las sesiones prácticas de la asignatura, se llama *Jupyter* y viene incluido en la distribución Anaconda de Python."
   ]
  },
  {
   "cell_type": "markdown",
   "metadata": {},
   "source": [
    "En el entorno *Jupyter* se trabaja sobre un *notebook* u hoja de trabajo. Esta hoja de trabajo está formada por una secuencia de cajas, que pueden ser de texto, en las que explicar ideas y conceptos, o de código, en las que definir o evaluar funciones Python."
   ]
  },
  {
   "cell_type": "markdown",
   "metadata": {},
   "source": [
    "El tipo de caja se controla con el menú desplegable de la derecha en el que podemos escoger 'Code' para cajas de código o 'Markdown' para cajas de texto."
   ]
  },
  {
   "cell_type": "markdown",
   "metadata": {},
   "source": [
    "El texto se escribe en formato 'Markdown' con el que fácilmente podemos crear cabeceras, destacar texto, crear listas, incluir imágenes o enlaces a páginas web. Un resumen de las directivas 'Markdown' se puede encontrar fácilmente en internet buscando 'markdown cheat sheet'."
   ]
  },
  {
   "cell_type": "markdown",
   "metadata": {},
   "source": [
    "Para editar una caja, es suficiente con situarse en ella y pulsar Enter (o doble clic de ratón). Una vez completado el contenido de una caja, podemos evaluarla con la combinación de teclas Control-Enter (quedándonos en la misma caja que hemos evaluado), Mayusculas-Enter (pasando a la siguiente caja) o Alt-Enter (creando una nueva caja)."
   ]
  },
  {
   "cell_type": "markdown",
   "metadata": {},
   "source": [
    "También disponemos de las habituales opciones de edición en las cajas (cortar, copiar, pegar) así como otras que nos permiten dividir una caja o unir cajas. En el menú superior tenemos acceso a estas y otras opciones."
   ]
  },
  {
   "cell_type": "markdown",
   "metadata": {},
   "source": [
    "En el menú 'Help' disponéis de enlaces a documentación de algunas de las herramientas que usaremos durante el curso,"
   ]
  },
  {
   "cell_type": "markdown",
   "metadata": {},
   "source": [
    "### 1. Tipos numéricos"
   ]
  },
  {
   "cell_type": "markdown",
   "metadata": {},
   "source": [
    "En Python podemos trabajar con distintos tipos numéricos. Como el lenguaje no es tipado, el tipo de un número lo determinará la forma en que lo escribamos y la expresión en la que se utilice. Así, el número `5` será de tipo entero salvo que se use en una expresión en la que haya que considerarlo como un número real. Por otro lado, el número `5.5` es de tipo real."
   ]
  },
  {
   "cell_type": "markdown",
   "metadata": {},
   "source": [
    "El intérprete de Python funciona como una calculadora, podemos utilizar las operaciones aritméticas habituales (`+`, `*`, `-` y `/`) y obtendremos el resultado correspondiente, con la precedencia y asociatividad habituales para estas operaciones."
   ]
  },
  {
   "cell_type": "code",
   "execution_count": 1,
   "metadata": {},
   "outputs": [
    {
     "data": {
      "text/plain": [
       "4"
      ]
     },
     "execution_count": 1,
     "metadata": {},
     "output_type": "execute_result"
    }
   ],
   "source": [
    "2+2"
   ]
  },
  {
   "cell_type": "markdown",
   "metadata": {},
   "source": [
    "El operador de division `/` siempre devuelve un número real. Si queremos calcular el cociente de una división entre números enteros debemos usar el operador `//`; y el operador `%` queremos obtener el resto de una división entre números enteros."
   ]
  },
  {
   "cell_type": "code",
   "execution_count": 2,
   "metadata": {},
   "outputs": [
    {
     "data": {
      "text/plain": [
       "8.75"
      ]
     },
     "execution_count": 2,
     "metadata": {},
     "output_type": "execute_result"
    }
   ],
   "source": [
    "(50-5*3)/4"
   ]
  },
  {
   "cell_type": "markdown",
   "metadata": {},
   "source": [
    "Otro operador que también está definido sobre números es la potencia: `**`"
   ]
  },
  {
   "cell_type": "code",
   "execution_count": 3,
   "metadata": {},
   "outputs": [
    {
     "data": {
      "text/plain": [
       "625"
      ]
     },
     "execution_count": 3,
     "metadata": {},
     "output_type": "execute_result"
    }
   ],
   "source": [
    "(2+3)**4"
   ]
  },
  {
   "cell_type": "markdown",
   "metadata": {},
   "source": [
    "También podemos realizar cálculos entre números complejos, indicando la parte imaginaria con el símbolo `j`."
   ]
  },
  {
   "cell_type": "code",
   "execution_count": 4,
   "metadata": {},
   "outputs": [
    {
     "data": {
      "text/plain": [
       "(1.5+0.5j)"
      ]
     },
     "execution_count": 4,
     "metadata": {},
     "output_type": "execute_result"
    }
   ],
   "source": [
    "(1+2j)/(1+1j)"
   ]
  },
  {
   "cell_type": "markdown",
   "metadata": {},
   "source": [
    "En python, los números son **inmutables**, lo que quiere decir que su valor no puede ser cambiado, es decir, el valor de un número es siempre el mismo, como cabría esperar. Más adelante veremos más tipos de datos inmutables."
   ]
  },
  {
   "cell_type": "markdown",
   "metadata": {},
   "source": [
    "Hay gran variedad de funciones definidas sobre números, tanto incluidas por defecto (https://docs.python.org/3.6/library/functions.html) como definidas en librerías espécificas."
   ]
  },
  {
   "cell_type": "markdown",
   "metadata": {},
   "source": [
    "### 2. Variables "
   ]
  },
  {
   "cell_type": "markdown",
   "metadata": {},
   "source": [
    "Las variables son símbolos en los que \"almacenamos\" datos, para referenciarlos durante un programa. En Python *no hay que declarar las variables*. En la práctica, esta definición nos sirve en la mayoría de las situaciones, pero siendo más precisos, una variable es una **referencia** a una posición de memoria, en la que está almacenada el dato.   "
   ]
  },
  {
   "cell_type": "markdown",
   "metadata": {},
   "source": [
    "Las asignaciones se realizan con el símbolo `=` "
   ]
  },
  {
   "cell_type": "code",
   "execution_count": 5,
   "metadata": {},
   "outputs": [],
   "source": [
    "ancho = 20\n",
    "alto = 5*9\n",
    "area = ancho * alto"
   ]
  },
  {
   "cell_type": "code",
   "execution_count": 6,
   "metadata": {},
   "outputs": [
    {
     "data": {
      "text/plain": [
       "900"
      ]
     },
     "execution_count": 6,
     "metadata": {},
     "output_type": "execute_result"
    }
   ],
   "source": [
    "area"
   ]
  },
  {
   "cell_type": "code",
   "execution_count": 7,
   "metadata": {},
   "outputs": [
    {
     "data": {
      "text/plain": [
       "(20, 45, 900)"
      ]
     },
     "execution_count": 7,
     "metadata": {},
     "output_type": "execute_result"
    }
   ],
   "source": [
    "ancho,alto,area"
   ]
  },
  {
   "cell_type": "code",
   "execution_count": 8,
   "metadata": {},
   "outputs": [],
   "source": [
    "# Asignaciones a varias variables en una línea <-- Comentario en Python\n",
    "x,y=2,3"
   ]
  },
  {
   "cell_type": "markdown",
   "metadata": {},
   "source": [
    "También se pueden realizar asignaciones aumentadas, combinando el operador de asignación `=` con otro operador."
   ]
  },
  {
   "cell_type": "code",
   "execution_count": 9,
   "metadata": {},
   "outputs": [],
   "source": [
    "area/=2"
   ]
  },
  {
   "cell_type": "code",
   "execution_count": 10,
   "metadata": {},
   "outputs": [
    {
     "data": {
      "text/plain": [
       "450.0"
      ]
     },
     "execution_count": 10,
     "metadata": {},
     "output_type": "execute_result"
    }
   ],
   "source": [
    "area"
   ]
  },
  {
   "cell_type": "markdown",
   "metadata": {},
   "source": [
    "En este caso, el dato numérico `900` no ha cambiado, sino que se ha creado un nuevo dato numérico, el `1800`, y la variable `area` apunta ahora a ese nuevo dato."
   ]
  },
  {
   "cell_type": "markdown",
   "metadata": {},
   "source": [
    "Hay operadores de asignación aumentada para la mayoría de los operadores binarios (no sólo los numéricos):"
   ]
  },
  {
   "cell_type": "code",
   "execution_count": 11,
   "metadata": {},
   "outputs": [
    {
     "data": {
      "text/plain": [
       "1.5"
      ]
     },
     "execution_count": 11,
     "metadata": {},
     "output_type": "execute_result"
    }
   ],
   "source": [
    "x=3.5\n",
    "x-=2\n",
    "x"
   ]
  },
  {
   "cell_type": "code",
   "execution_count": 12,
   "metadata": {},
   "outputs": [
    {
     "data": {
      "text/plain": [
       "3.375"
      ]
     },
     "execution_count": 12,
     "metadata": {},
     "output_type": "execute_result"
    }
   ],
   "source": [
    "x**=3\n",
    "x"
   ]
  },
  {
   "cell_type": "markdown",
   "metadata": {},
   "source": [
    "### 3. Booleanos"
   ]
  },
  {
   "cell_type": "markdown",
   "metadata": {},
   "source": [
    "Los valores logicos de verdad y falsedad en Python son `True` y `False`. Por ejemplo, podemos comparar números con el operador de comparación `==` (no confundir con el de asignación `=`), o comprobar si son distintos con `!=`: "
   ]
  },
  {
   "cell_type": "code",
   "execution_count": 13,
   "metadata": {},
   "outputs": [
    {
     "data": {
      "text/plain": [
       "True"
      ]
     },
     "execution_count": 13,
     "metadata": {},
     "output_type": "execute_result"
    }
   ],
   "source": [
    "2==2"
   ]
  },
  {
   "cell_type": "code",
   "execution_count": 14,
   "metadata": {},
   "outputs": [
    {
     "data": {
      "text/plain": [
       "False"
      ]
     },
     "execution_count": 14,
     "metadata": {},
     "output_type": "execute_result"
    }
   ],
   "source": [
    "x=8\n",
    "y=7\n",
    "x==y"
   ]
  },
  {
   "cell_type": "code",
   "execution_count": 15,
   "metadata": {},
   "outputs": [
    {
     "data": {
      "text/plain": [
       "True"
      ]
     },
     "execution_count": 15,
     "metadata": {},
     "output_type": "execute_result"
    }
   ],
   "source": [
    "x!=y"
   ]
  },
  {
   "cell_type": "markdown",
   "metadata": {},
   "source": [
    "También podemos usar los operadores lógicos usales: conjunción, disyunción, negación."
   ]
  },
  {
   "cell_type": "code",
   "execution_count": 16,
   "metadata": {},
   "outputs": [
    {
     "data": {
      "text/plain": [
       "False"
      ]
     },
     "execution_count": 16,
     "metadata": {},
     "output_type": "execute_result"
    }
   ],
   "source": [
    "2!=4 and 2 ==3"
   ]
  },
  {
   "cell_type": "code",
   "execution_count": 17,
   "metadata": {},
   "outputs": [
    {
     "data": {
      "text/plain": [
       "True"
      ]
     },
     "execution_count": 17,
     "metadata": {},
     "output_type": "execute_result"
    }
   ],
   "source": [
    "2!=3 or 2 == 2"
   ]
  },
  {
   "cell_type": "code",
   "execution_count": 18,
   "metadata": {},
   "outputs": [
    {
     "data": {
      "text/plain": [
       "False"
      ]
     },
     "execution_count": 18,
     "metadata": {},
     "output_type": "execute_result"
    }
   ],
   "source": [
    "not 3!=8"
   ]
  },
  {
   "cell_type": "code",
   "execution_count": 19,
   "metadata": {},
   "outputs": [
    {
     "data": {
      "text/plain": [
       "True"
      ]
     },
     "execution_count": 19,
     "metadata": {},
     "output_type": "execute_result"
    }
   ],
   "source": [
    "True == 1 and False == 0"
   ]
  },
  {
   "cell_type": "markdown",
   "metadata": {},
   "source": [
    "### 4. Cadenas de caracteres (*strings*)"
   ]
  },
  {
   "cell_type": "markdown",
   "metadata": {},
   "source": [
    "Una cadena o *string* es una secuencia de caracteres, escrita entre comillas simples o dobles. Es un tipo de datos inmutable."
   ]
  },
  {
   "cell_type": "code",
   "execution_count": 20,
   "metadata": {},
   "outputs": [],
   "source": [
    "c1=\"Esto es una cadena\""
   ]
  },
  {
   "cell_type": "code",
   "execution_count": 21,
   "metadata": {},
   "outputs": [],
   "source": [
    "c2=\"Hola\"\n",
    "c3=\" y adiós\""
   ]
  },
  {
   "cell_type": "markdown",
   "metadata": {},
   "source": [
    "En Python hay algunos operadores que actúan sobre cadenas: el operador `+` para la concatención y el operador `*` para la repetición. También hay operadores de asignación aumentada para estos operadores."
   ]
  },
  {
   "cell_type": "code",
   "execution_count": 22,
   "metadata": {},
   "outputs": [],
   "source": [
    "frase=c2+c3"
   ]
  },
  {
   "cell_type": "code",
   "execution_count": 23,
   "metadata": {},
   "outputs": [
    {
     "data": {
      "text/plain": [
       "'Hola y adiós'"
      ]
     },
     "execution_count": 23,
     "metadata": {},
     "output_type": "execute_result"
    }
   ],
   "source": [
    "frase"
   ]
  },
  {
   "cell_type": "code",
   "execution_count": 24,
   "metadata": {},
   "outputs": [],
   "source": [
    "frase+=\"-\""
   ]
  },
  {
   "cell_type": "code",
   "execution_count": 25,
   "metadata": {},
   "outputs": [
    {
     "data": {
      "text/plain": [
       "'Hola y adiós-'"
      ]
     },
     "execution_count": 25,
     "metadata": {},
     "output_type": "execute_result"
    }
   ],
   "source": [
    "frase"
   ]
  },
  {
   "cell_type": "code",
   "execution_count": 26,
   "metadata": {},
   "outputs": [
    {
     "data": {
      "text/plain": [
       "'Hola y adiós-Hola y adiós-'"
      ]
     },
     "execution_count": 26,
     "metadata": {},
     "output_type": "execute_result"
    }
   ],
   "source": [
    "frase*2"
   ]
  },
  {
   "cell_type": "markdown",
   "metadata": {},
   "source": [
    "Como acabamos de ver, algunos operadores de Python usan el mismo símbolo para distintos tipos de datos (por ejemplo `+` para sumar números y para concatenar strings). El intérprete de Python deduce dinámicamente la operación a realizar a partir del tipo de sus operandos. "
   ]
  },
  {
   "cell_type": "markdown",
   "metadata": {},
   "source": [
    "El acceso a caracteres concretos de un string se puede hacer mediante su índice de posición. En Python los índices _empiezan a contar en 0_ y pueden ser negativos (en ese caso, cuenta hacia atrás desde el último):"
   ]
  },
  {
   "cell_type": "code",
   "execution_count": 27,
   "metadata": {},
   "outputs": [
    {
     "data": {
      "text/plain": [
       "'a'"
      ]
     },
     "execution_count": 27,
     "metadata": {},
     "output_type": "execute_result"
    }
   ],
   "source": [
    "frase[7]"
   ]
  },
  {
   "cell_type": "code",
   "execution_count": 28,
   "metadata": {},
   "outputs": [
    {
     "data": {
      "text/plain": [
       "'-'"
      ]
     },
     "execution_count": 28,
     "metadata": {},
     "output_type": "execute_result"
    }
   ],
   "source": [
    "frase[-1]"
   ]
  },
  {
   "cell_type": "code",
   "execution_count": 29,
   "metadata": {},
   "outputs": [
    {
     "data": {
      "text/plain": [
       "'ai'"
      ]
     },
     "execution_count": 29,
     "metadata": {},
     "output_type": "execute_result"
    }
   ],
   "source": [
    "frase[3]+frase[-4]"
   ]
  },
  {
   "cell_type": "markdown",
   "metadata": {},
   "source": [
    "El operador de _slicing_ en Python permite extraer trozos de una secuencia: dada una secuencia `l` (como por ejemplo una cadena), la notación `l[inicio:fin]` indica la subsecuencia de `l` que comienza en la posición de índice `inicio` y acaba en la posición anterior a `fin`."
   ]
  },
  {
   "cell_type": "code",
   "execution_count": 30,
   "metadata": {},
   "outputs": [
    {
     "data": {
      "text/plain": [
       "'Hola y adiós-'"
      ]
     },
     "execution_count": 30,
     "metadata": {},
     "output_type": "execute_result"
    }
   ],
   "source": [
    "frase"
   ]
  },
  {
   "cell_type": "code",
   "execution_count": 31,
   "metadata": {},
   "outputs": [
    {
     "data": {
      "text/plain": [
       "'la y'"
      ]
     },
     "execution_count": 31,
     "metadata": {},
     "output_type": "execute_result"
    }
   ],
   "source": [
    "frase[2:6]"
   ]
  },
  {
   "cell_type": "code",
   "execution_count": 32,
   "metadata": {},
   "outputs": [
    {
     "data": {
      "text/plain": [
       "' y adió'"
      ]
     },
     "execution_count": 32,
     "metadata": {},
     "output_type": "execute_result"
    }
   ],
   "source": [
    "frase[4:11]"
   ]
  },
  {
   "cell_type": "markdown",
   "metadata": {},
   "source": [
    "En la operación de _slicing_ se puede incluir un tercer argumento `l[inicio:fin:salto]`,  indicando el salto a la hora de recorrer la secuencia. El salto puede ser negativo, indicando un recorrido desde el final.  "
   ]
  },
  {
   "cell_type": "code",
   "execution_count": 33,
   "metadata": {},
   "outputs": [
    {
     "data": {
      "text/plain": [
       "'l  '"
      ]
     },
     "execution_count": 33,
     "metadata": {},
     "output_type": "execute_result"
    }
   ],
   "source": [
    "frase[2:7:2]"
   ]
  },
  {
   "cell_type": "code",
   "execution_count": 34,
   "metadata": {},
   "outputs": [
    {
     "data": {
      "text/plain": [
       "'da y '"
      ]
     },
     "execution_count": 34,
     "metadata": {},
     "output_type": "execute_result"
    }
   ],
   "source": [
    "frase[8:3:-1]"
   ]
  },
  {
   "cell_type": "markdown",
   "metadata": {},
   "source": [
    "Los tres parámetros de la operación de _slicing_ tienen valores por defecto: el `inicio` es por defecto `0`, el `fin` es la última posición de la secuencia, y el `salto` es `1`:"
   ]
  },
  {
   "cell_type": "code",
   "execution_count": 35,
   "metadata": {},
   "outputs": [
    {
     "data": {
      "text/plain": [
       "'la y adiós-'"
      ]
     },
     "execution_count": 35,
     "metadata": {},
     "output_type": "execute_result"
    }
   ],
   "source": [
    "frase[2:]"
   ]
  },
  {
   "cell_type": "code",
   "execution_count": 36,
   "metadata": {},
   "outputs": [
    {
     "data": {
      "text/plain": [
       "'Hola y '"
      ]
     },
     "execution_count": 36,
     "metadata": {},
     "output_type": "execute_result"
    }
   ],
   "source": [
    "frase[:7]"
   ]
  },
  {
   "cell_type": "markdown",
   "metadata": {},
   "source": [
    "Si el `salto` es negativo, los valores por defecto de `inicio` y `fin` se intercambian. Es decir, si no se da `inicio`, este sería la última posición, y si no se da `fin`, este sería la primera: "
   ]
  },
  {
   "cell_type": "code",
   "execution_count": 37,
   "metadata": {},
   "outputs": [
    {
     "data": {
      "text/plain": [
       "'-sóida y a'"
      ]
     },
     "execution_count": 37,
     "metadata": {},
     "output_type": "execute_result"
    }
   ],
   "source": [
    "frase[:2:-1]"
   ]
  },
  {
   "cell_type": "code",
   "execution_count": 38,
   "metadata": {},
   "outputs": [
    {
     "data": {
      "text/plain": [
       "'a y aloH'"
      ]
     },
     "execution_count": 38,
     "metadata": {},
     "output_type": "execute_result"
    }
   ],
   "source": [
    "frase[7::-1]"
   ]
  },
  {
   "cell_type": "code",
   "execution_count": 39,
   "metadata": {},
   "outputs": [
    {
     "data": {
      "text/plain": [
       "'-sóida y aloH'"
      ]
     },
     "execution_count": 39,
     "metadata": {},
     "output_type": "execute_result"
    }
   ],
   "source": [
    "frase[::-1]"
   ]
  },
  {
   "cell_type": "markdown",
   "metadata": {},
   "source": [
    "### 5. Clases y objetos"
   ]
  },
  {
   "cell_type": "markdown",
   "metadata": {},
   "source": [
    "En Python, todos los tipos de datos (y en particular, los predefinidos), son __clases__ y los datos de ese tipo son __objetos__ o instancias de esa clase. Si no tienes experiencia con la programación orientada a objetos, de momento basta con tener en cuenta que una clase _define de manera general_ cómo serían los elementos (_objetos_) de un tipo de datos. Y esa definición consiste en dar una serie de atributos o datos que forman el objeto, junto con las funciones (_métodos_) que manipulan dichos datos.    "
   ]
  },
  {
   "cell_type": "markdown",
   "metadata": {},
   "source": [
    "Por ejemplo, el tipo de dato _string_ es una clase predefinida, y las cadenas de caracteres concretas son objetos de la clase _string_. Por tanto a un objeto de la clase _string_ se le pueden aplicar los métodos que están predefinidos para la clase _string_. "
   ]
  },
  {
   "cell_type": "markdown",
   "metadata": {},
   "source": [
    "En general, si tenemos un objeto `obj` de una clase, y en esa clase está definido el método `fun`, entonces `obj.fun(...)`es la manera de aplicar el método `fun` sobre dicho objeto `obj`, posiblemente con parámetros adicionales `(...)`.  "
   ]
  },
  {
   "cell_type": "markdown",
   "metadata": {},
   "source": [
    "Lo que sigue es un ejemplo de aplicación de un método (`index`) definido para la clase string:"
   ]
  },
  {
   "cell_type": "code",
   "execution_count": 40,
   "metadata": {},
   "outputs": [],
   "source": [
    "cad=\"En un lugar de La Mancha\""
   ]
  },
  {
   "cell_type": "code",
   "execution_count": 41,
   "metadata": {},
   "outputs": [
    {
     "data": {
      "text/plain": [
       "18"
      ]
     },
     "execution_count": 41,
     "metadata": {},
     "output_type": "execute_result"
    }
   ],
   "source": [
    "cad.index(\"Mancha\")"
   ]
  },
  {
   "cell_type": "markdown",
   "metadata": {},
   "source": [
    "En concreto, este método `index` se aplica sobre el objeto _string_ referenciado por la variable `cad`, y recibe como argumento adicional el _string_ `\"Mancha\"`. Devuelve la posición de comienzo de ese _string_ `\"Mancha\"` en la cadena `\"En un lugar de la Mancha\"` (si no tuviera a `\"Mancha\"` como subcadena, devolvería error). "
   ]
  },
  {
   "cell_type": "code",
   "execution_count": 42,
   "metadata": {},
   "outputs": [],
   "source": [
    " #cad.index(\"plancha\")"
   ]
  },
  {
   "cell_type": "markdown",
   "metadata": {},
   "source": [
    "A continuación, tenemos otros ejemplos de métodos propios de la clase _string_. Se pueden encontrar más detalles sobre esto en el manual de Python, donde además se puede consultar un listado exhaustivo de todos los métodos disponibles para cada clase. "
   ]
  },
  {
   "cell_type": "code",
   "execution_count": 43,
   "metadata": {},
   "outputs": [
    {
     "data": {
      "text/plain": [
       "18"
      ]
     },
     "execution_count": 43,
     "metadata": {},
     "output_type": "execute_result"
    }
   ],
   "source": [
    "cad.find(\"Mancha\")"
   ]
  },
  {
   "cell_type": "code",
   "execution_count": 44,
   "metadata": {},
   "outputs": [
    {
     "data": {
      "text/plain": [
       "-1"
      ]
     },
     "execution_count": 44,
     "metadata": {},
     "output_type": "execute_result"
    }
   ],
   "source": [
    "cad.find(\"plancha\")"
   ]
  },
  {
   "cell_type": "code",
   "execution_count": 45,
   "metadata": {},
   "outputs": [
    {
     "data": {
      "text/plain": [
       "'EN UN LUGAR DE LA MANCHA'"
      ]
     },
     "execution_count": 45,
     "metadata": {},
     "output_type": "execute_result"
    }
   ],
   "source": [
    "cad.upper()"
   ]
  },
  {
   "cell_type": "code",
   "execution_count": 46,
   "metadata": {},
   "outputs": [
    {
     "data": {
      "text/plain": [
       "2"
      ]
     },
     "execution_count": 46,
     "metadata": {},
     "output_type": "execute_result"
    }
   ],
   "source": [
    "cad.count(\"u\")"
   ]
  },
  {
   "cell_type": "code",
   "execution_count": 47,
   "metadata": {},
   "outputs": [
    {
     "data": {
      "text/plain": [
       "'Rojo blanco negro'"
      ]
     },
     "execution_count": 47,
     "metadata": {},
     "output_type": "execute_result"
    }
   ],
   "source": [
    "\" \".join([\"Rojo\", \"blanco\", \"negro\"])"
   ]
  },
  {
   "cell_type": "code",
   "execution_count": 48,
   "metadata": {},
   "outputs": [
    {
     "data": {
      "text/plain": [
       "'Rojo y blanco y negro'"
      ]
     },
     "execution_count": 48,
     "metadata": {},
     "output_type": "execute_result"
    }
   ],
   "source": [
    "\" y \".join([\"Rojo\", \"blanco\", \"negro\"])"
   ]
  },
  {
   "cell_type": "code",
   "execution_count": 49,
   "metadata": {},
   "outputs": [
    {
     "data": {
      "text/plain": [
       "['Rojo', 'blanco', 'negro']"
      ]
     },
     "execution_count": 49,
     "metadata": {},
     "output_type": "execute_result"
    }
   ],
   "source": [
    "\"Rojo blanco negro\".split(\" \")"
   ]
  },
  {
   "cell_type": "code",
   "execution_count": 50,
   "metadata": {},
   "outputs": [
    {
     "data": {
      "text/plain": [
       "['Rojo', 'y', 'blanco', 'y', 'negro']"
      ]
     },
     "execution_count": 50,
     "metadata": {},
     "output_type": "execute_result"
    }
   ],
   "source": [
    "\"Rojo y blanco y negro\".split(\" \")"
   ]
  },
  {
   "cell_type": "code",
   "execution_count": 51,
   "metadata": {},
   "outputs": [
    {
     "data": {
      "text/plain": [
       "['Rojo', 'blanco', 'negro']"
      ]
     },
     "execution_count": 51,
     "metadata": {},
     "output_type": "execute_result"
    }
   ],
   "source": [
    "\"Rojo y blanco y negro\".split(\" y \")"
   ]
  },
  {
   "cell_type": "markdown",
   "metadata": {},
   "source": [
    "Nota: En los ejemplos anteriores de `join` y `split` aparecen _listas_ (secuencias de datos, entre corchetes y separadas por comas). Más adelante hablaremos de ellas."
   ]
  },
  {
   "cell_type": "markdown",
   "metadata": {},
   "source": [
    "### 6. Impresión por pantalla"
   ]
  },
  {
   "cell_type": "markdown",
   "metadata": {},
   "source": [
    "La función `print` permite escribir cadenas de caracteres por pantalla, y el método `format` de la clase _string_ nos permite manejar cadenas de caracteres que contienen ciertos \"huecos\" (_templates_) que se rellenan con valores concretos: "
   ]
  },
  {
   "cell_type": "code",
   "execution_count": 52,
   "metadata": {},
   "outputs": [
    {
     "name": "stdout",
     "output_type": "stream",
     "text": [
      "Esta inteligencia es artificial\n",
      "Esta inteligencia no es artificial\n"
     ]
    }
   ],
   "source": [
    "d = \"es\"\n",
    "e = \"no es\"\n",
    "print(\"Esta inteligencia\",d,\"artificial\")\n",
    "print(\"Esta inteligencia\",e,\"artificial\")"
   ]
  },
  {
   "cell_type": "code",
   "execution_count": 53,
   "metadata": {},
   "outputs": [
    {
     "name": "stdout",
     "output_type": "stream",
     "text": [
      "2 por 3 es 6\n",
      "4 por 5 es 20\n"
     ]
    }
   ],
   "source": [
    "c=\"{0} por {1} es {2}\"\n",
    "x,y,u,z = 2,3,4,5\n",
    "print(c.format(x,y,x*y))\n",
    "print(c.format(u,z,u*z))"
   ]
  },
  {
   "cell_type": "markdown",
   "metadata": {},
   "source": [
    "La función `input` permite escribir un mensaje por pantalla y recoger un valor escrito. Este valor se devuelve en forma de cadena."
   ]
  },
  {
   "cell_type": "code",
   "execution_count": 54,
   "metadata": {},
   "outputs": [],
   "source": [
    "#input('Escribe tu nombre: ')"
   ]
  },
  {
   "cell_type": "markdown",
   "metadata": {},
   "source": [
    "### 7. Tuplas"
   ]
  },
  {
   "cell_type": "markdown",
   "metadata": {},
   "source": [
    "Las _tuplas_ en Python son secuencias de datos separadas por comas. Usualmente van entre paréntesis, aunque no es obligatorio (excepto para la tupla vacía). Ejemplos:  "
   ]
  },
  {
   "cell_type": "code",
   "execution_count": 55,
   "metadata": {},
   "outputs": [
    {
     "data": {
      "text/plain": [
       "(1, 2, 3, 4)"
      ]
     },
     "execution_count": 55,
     "metadata": {},
     "output_type": "execute_result"
    }
   ],
   "source": [
    "1,2,3,4"
   ]
  },
  {
   "cell_type": "code",
   "execution_count": 56,
   "metadata": {},
   "outputs": [
    {
     "data": {
      "text/plain": [
       "()"
      ]
     },
     "execution_count": 56,
     "metadata": {},
     "output_type": "execute_result"
    }
   ],
   "source": [
    "()"
   ]
  },
  {
   "cell_type": "markdown",
   "metadata": {},
   "source": [
    "Si queremos construir una tupla unitaria sin usar los paréntesis, debemos poner una coma al final. Esto es para distinguir un valor simple de una tupla unitaria formada por dicho valor."
   ]
  },
  {
   "cell_type": "code",
   "execution_count": 57,
   "metadata": {},
   "outputs": [
    {
     "data": {
      "text/plain": [
       "1"
      ]
     },
     "execution_count": 57,
     "metadata": {},
     "output_type": "execute_result"
    }
   ],
   "source": [
    "1"
   ]
  },
  {
   "cell_type": "code",
   "execution_count": 58,
   "metadata": {},
   "outputs": [
    {
     "data": {
      "text/plain": [
       "1"
      ]
     },
     "execution_count": 58,
     "metadata": {},
     "output_type": "execute_result"
    }
   ],
   "source": [
    "(1)"
   ]
  },
  {
   "cell_type": "code",
   "execution_count": 59,
   "metadata": {},
   "outputs": [
    {
     "data": {
      "text/plain": [
       "(1,)"
      ]
     },
     "execution_count": 59,
     "metadata": {},
     "output_type": "execute_result"
    }
   ],
   "source": [
    "1,"
   ]
  },
  {
   "cell_type": "code",
   "execution_count": 60,
   "metadata": {},
   "outputs": [
    {
     "data": {
      "text/plain": [
       "(2, 3, 5, -1, 6, 0.6666666666666666)"
      ]
     },
     "execution_count": 60,
     "metadata": {},
     "output_type": "execute_result"
    }
   ],
   "source": [
    "a=2\n",
    "b=3\n",
    "(a,b,a+b,a-b,a*b,a/b)"
   ]
  },
  {
   "cell_type": "markdown",
   "metadata": {},
   "source": [
    "Como las tuplas son __secuencias__, también se pueden aplicar a las tuplas algunos de los operadores que hemos visto en la sección sobre las cadenas. En particular, el acceso a elementos a través de la posición, el operador de _slicing_, o la concatenación:"
   ]
  },
  {
   "cell_type": "code",
   "execution_count": 61,
   "metadata": {},
   "outputs": [
    {
     "data": {
      "text/plain": [
       "('Uno', 'Dos', 'Tres', 'Cuatro')"
      ]
     },
     "execution_count": 61,
     "metadata": {},
     "output_type": "execute_result"
    }
   ],
   "source": [
    "a=(\"Uno\",\"Dos\",\"Tres\",\"Cuatro\")\n",
    "a"
   ]
  },
  {
   "cell_type": "code",
   "execution_count": 62,
   "metadata": {},
   "outputs": [
    {
     "data": {
      "text/plain": [
       "'Tres'"
      ]
     },
     "execution_count": 62,
     "metadata": {},
     "output_type": "execute_result"
    }
   ],
   "source": [
    "a[2]"
   ]
  },
  {
   "cell_type": "code",
   "execution_count": 63,
   "metadata": {},
   "outputs": [
    {
     "data": {
      "text/plain": [
       "('Dos', 'Tres')"
      ]
     },
     "execution_count": 63,
     "metadata": {},
     "output_type": "execute_result"
    }
   ],
   "source": [
    "a[1:3]"
   ]
  },
  {
   "cell_type": "code",
   "execution_count": 64,
   "metadata": {},
   "outputs": [
    {
     "data": {
      "text/plain": [
       "('Uno', 'Dos', 'Tres', 'Cuatro')"
      ]
     },
     "execution_count": 64,
     "metadata": {},
     "output_type": "execute_result"
    }
   ],
   "source": [
    "a[::]"
   ]
  },
  {
   "cell_type": "code",
   "execution_count": 65,
   "metadata": {},
   "outputs": [
    {
     "data": {
      "text/plain": [
       "('Cuatro', 'Tres', 'Dos', 'Uno')"
      ]
     },
     "execution_count": 65,
     "metadata": {},
     "output_type": "execute_result"
    }
   ],
   "source": [
    "a[::-1]"
   ]
  },
  {
   "cell_type": "code",
   "execution_count": 66,
   "metadata": {},
   "outputs": [
    {
     "data": {
      "text/plain": [
       "('Uno', 'Dos', 'Tres', 'Cuatro', 'Tres', 'Dos', 'Uno')"
      ]
     },
     "execution_count": 66,
     "metadata": {},
     "output_type": "execute_result"
    }
   ],
   "source": [
    "a+a[2::-1]"
   ]
  },
  {
   "cell_type": "code",
   "execution_count": 67,
   "metadata": {},
   "outputs": [
    {
     "data": {
      "text/plain": [
       "True"
      ]
     },
     "execution_count": 67,
     "metadata": {},
     "output_type": "execute_result"
    }
   ],
   "source": [
    "\"Dos\" in a"
   ]
  },
  {
   "cell_type": "markdown",
   "metadata": {},
   "source": [
    "Las tuplas son tipos de datos __inmutables__. Esto significa que una vez creadas, no podemos cambiar su contenido. "
   ]
  },
  {
   "cell_type": "code",
   "execution_count": 68,
   "metadata": {},
   "outputs": [],
   "source": [
    "a=(\"Madrid\",\"Paris\",\"Roma\",\"Berlin\",\"Londres\")"
   ]
  },
  {
   "cell_type": "code",
   "execution_count": 69,
   "metadata": {},
   "outputs": [],
   "source": [
    " #a[3]=\"Atenas\""
   ]
  },
  {
   "cell_type": "markdown",
   "metadata": {},
   "source": [
    "__Inmutabilidad y variables como referencias__: la siguiente secuencia de comandos es ilustrativa tanto de la inmutabilidad de las tuplas, como del hecho de que las variables en Python son referencias a objetos almacenados en memoria. \n",
    "\n",
    "En primer lugar, al hacer `b=a`, estamos haciendo que la variable `b` \"apunte\" a la misma posición de memoria a la que referencia la variable `a`: "
   ]
  },
  {
   "cell_type": "code",
   "execution_count": 70,
   "metadata": {},
   "outputs": [
    {
     "data": {
      "text/plain": [
       "('Madrid', 'Paris', 'Roma', 'Berlin', 'Londres')"
      ]
     },
     "execution_count": 70,
     "metadata": {},
     "output_type": "execute_result"
    }
   ],
   "source": [
    "a"
   ]
  },
  {
   "cell_type": "code",
   "execution_count": 71,
   "metadata": {},
   "outputs": [
    {
     "data": {
      "text/plain": [
       "('Madrid', 'Paris', 'Roma', 'Berlin', 'Londres')"
      ]
     },
     "execution_count": 71,
     "metadata": {},
     "output_type": "execute_result"
    }
   ],
   "source": [
    "b=a\n",
    "b"
   ]
  },
  {
   "cell_type": "markdown",
   "metadata": {},
   "source": [
    "Ahora hacemos una asignación extendida a la variable `a`, concatenando un elemento adicional al final de la tupla:"
   ]
  },
  {
   "cell_type": "code",
   "execution_count": 72,
   "metadata": {},
   "outputs": [],
   "source": [
    "a+=(\"Atenas\",)"
   ]
  },
  {
   "cell_type": "code",
   "execution_count": 73,
   "metadata": {},
   "outputs": [
    {
     "data": {
      "text/plain": [
       "('Madrid', 'Paris', 'Roma', 'Berlin', 'Londres', 'Atenas')"
      ]
     },
     "execution_count": 73,
     "metadata": {},
     "output_type": "execute_result"
    }
   ],
   "source": [
    "a"
   ]
  },
  {
   "cell_type": "markdown",
   "metadata": {},
   "source": [
    "Podemos pensar que se ha modficado la tupla a la que referenciaba `a`, pero en realidad lo que ha ocurrido es que se ha creado una nueva tupla (en otra posición de memoria), copiando el contenido de la original y añadiendo un elemento nuevo al final. Y se ha \"redireccionado\" la referencia de la variable `a` a esa nueva tupla. \n",
    "\n",
    "La tupla original sigue intacta y accesible a través de la variable `b`:"
   ]
  },
  {
   "cell_type": "code",
   "execution_count": 74,
   "metadata": {},
   "outputs": [
    {
     "data": {
      "text/plain": [
       "('Madrid', 'Paris', 'Roma', 'Berlin', 'Londres')"
      ]
     },
     "execution_count": 74,
     "metadata": {},
     "output_type": "execute_result"
    }
   ],
   "source": [
    "b"
   ]
  },
  {
   "cell_type": "markdown",
   "metadata": {},
   "source": [
    "### 8. Listas"
   ]
  },
  {
   "cell_type": "markdown",
   "metadata": {},
   "source": [
    "Las listas, al igual que las tuplas, son __secuencias__ de datos. Pero son __mutables__ (es decir, podemos cambiar su contenido).\n",
    "\n",
    "Una lista se representa como una secuencia de datos entre corchetes y separadas por comas."
   ]
  },
  {
   "cell_type": "code",
   "execution_count": 75,
   "metadata": {},
   "outputs": [
    {
     "data": {
      "text/plain": [
       "['a', 'b', 34, 'c', 'd', 76]"
      ]
     },
     "execution_count": 75,
     "metadata": {},
     "output_type": "execute_result"
    }
   ],
   "source": [
    "[\"a\",\"b\",34,\"c\",\"d\",76]"
   ]
  },
  {
   "cell_type": "code",
   "execution_count": 76,
   "metadata": {},
   "outputs": [
    {
     "data": {
      "text/plain": [
       "['hola', 34, (3,), [2, 'g']]"
      ]
     },
     "execution_count": 76,
     "metadata": {},
     "output_type": "execute_result"
    }
   ],
   "source": [
    "[\"hola\",34,(3,),[2,\"g\"]] # una lista puede ser miembro de una lista (anidación)"
   ]
  },
  {
   "cell_type": "code",
   "execution_count": 77,
   "metadata": {},
   "outputs": [
    {
     "data": {
      "text/plain": [
       "[2]"
      ]
     },
     "execution_count": 77,
     "metadata": {},
     "output_type": "execute_result"
    }
   ],
   "source": [
    "[2] # Lista unitaria"
   ]
  },
  {
   "cell_type": "code",
   "execution_count": 78,
   "metadata": {},
   "outputs": [
    {
     "data": {
      "text/plain": [
       "[]"
      ]
     },
     "execution_count": 78,
     "metadata": {},
     "output_type": "execute_result"
    }
   ],
   "source": [
    "[] # Lista vacía"
   ]
  },
  {
   "cell_type": "markdown",
   "metadata": {},
   "source": [
    "Puesto que son secuencias, nuevamente tiene sentido aplicar sobre ellas operaciones que ya hemos visto sobre cadenas o sobre tuplas: "
   ]
  },
  {
   "cell_type": "code",
   "execution_count": 79,
   "metadata": {},
   "outputs": [],
   "source": [
    "bocadillo = [\"pan\", \"jamon\", \"pan\"]"
   ]
  },
  {
   "cell_type": "code",
   "execution_count": 80,
   "metadata": {},
   "outputs": [
    {
     "data": {
      "text/plain": [
       "['pan', 'jamon', 'pan', 'jamon', 'huevo', 'pan']"
      ]
     },
     "execution_count": 80,
     "metadata": {},
     "output_type": "execute_result"
    }
   ],
   "source": [
    "2*bocadillo[:2] + [\"huevo\"] + [bocadillo[-1]]"
   ]
  },
  {
   "cell_type": "code",
   "execution_count": 81,
   "metadata": {},
   "outputs": [
    {
     "data": {
      "text/plain": [
       "['pan', 'jamon', 'pan', 'pan', 'jamon', 'pan', 'tomate', 'pan']"
      ]
     },
     "execution_count": 81,
     "metadata": {},
     "output_type": "execute_result"
    }
   ],
   "source": [
    "triple = 2*bocadillo + [\"tomate\",\"pan\"]\n",
    "triple"
   ]
  },
  {
   "cell_type": "code",
   "execution_count": 82,
   "metadata": {},
   "outputs": [
    {
     "data": {
      "text/plain": [
       "True"
      ]
     },
     "execution_count": 82,
     "metadata": {},
     "output_type": "execute_result"
    }
   ],
   "source": [
    "\"tomate\" in triple"
   ]
  },
  {
   "cell_type": "code",
   "execution_count": 83,
   "metadata": {},
   "outputs": [
    {
     "data": {
      "text/plain": [
       "8"
      ]
     },
     "execution_count": 83,
     "metadata": {},
     "output_type": "execute_result"
    }
   ],
   "source": [
    "len(triple)"
   ]
  },
  {
   "cell_type": "markdown",
   "metadata": {},
   "source": [
    "Las listas son __mutables__, es decir, podemos cambiar el contenido. El siguiente ejemplo muestra cómo cambiar un elemento de una lista:"
   ]
  },
  {
   "cell_type": "code",
   "execution_count": 84,
   "metadata": {},
   "outputs": [],
   "source": [
    "l=[3,5,7,9,11,13]"
   ]
  },
  {
   "cell_type": "code",
   "execution_count": 85,
   "metadata": {},
   "outputs": [],
   "source": [
    "l[4]=25"
   ]
  },
  {
   "cell_type": "code",
   "execution_count": 86,
   "metadata": {},
   "outputs": [
    {
     "data": {
      "text/plain": [
       "[3, 5, 7, 9, 25, 13]"
      ]
     },
     "execution_count": 86,
     "metadata": {},
     "output_type": "execute_result"
    }
   ],
   "source": [
    "l"
   ]
  },
  {
   "cell_type": "markdown",
   "metadata": {},
   "source": [
    "__Nota__: el hecho de que las variables en Python sean referencias puede suponer algún comportamiento \"inesperado\" si no se tiene en cuenta este hecho. Por ejemplo, si queremos obtener una copia modificada de una lista dada, la siguiente secuencia de instrucciones es un __error muy común__:"
   ]
  },
  {
   "cell_type": "code",
   "execution_count": 87,
   "metadata": {},
   "outputs": [],
   "source": [
    "l=[78,21,34,56]\n",
    "m=l # asignamos a m \"el valor\" de l\n",
    "m[2]=11 # cambiamos m"
   ]
  },
  {
   "cell_type": "markdown",
   "metadata": {},
   "source": [
    "Si ahora consultamos el valor de `m`, vemos que efectivamente ha cambiado:"
   ]
  },
  {
   "cell_type": "code",
   "execution_count": 88,
   "metadata": {},
   "outputs": [
    {
     "data": {
      "text/plain": [
       "[78, 21, 11, 56]"
      ]
     },
     "execution_count": 88,
     "metadata": {},
     "output_type": "execute_result"
    }
   ],
   "source": [
    "m"
   ]
  },
  {
   "cell_type": "markdown",
   "metadata": {},
   "source": [
    "Sin embargo, consultando el valor de `l`, resulta que también ha cambiado, y probablemente esa no era nuestra intención: "
   ]
  },
  {
   "cell_type": "code",
   "execution_count": 89,
   "metadata": {},
   "outputs": [
    {
     "data": {
      "text/plain": [
       "[78, 21, 11, 56]"
      ]
     },
     "execution_count": 89,
     "metadata": {},
     "output_type": "execute_result"
    }
   ],
   "source": [
    "l"
   ]
  },
  {
   "cell_type": "markdown",
   "metadata": {},
   "source": [
    "Lo que ha ocurrido es que al hacer la asignación `m=l`, en realidad lo que hacemos es que `m` y `l` apunten a la misma posición de memoria donde está almacenada la lista. Al modificar el contenido de la lista a través de la referencia `m`, la variable `l` sigue referenciando a esa posición de memoria donde está la lista, que ha sido  modificada."
   ]
  },
  {
   "cell_type": "markdown",
   "metadata": {},
   "source": [
    "Una manera __correcta__ de obtener una versión modificada de una lista sin cambiar la original sería la siguiente:"
   ]
  },
  {
   "cell_type": "code",
   "execution_count": 90,
   "metadata": {},
   "outputs": [],
   "source": [
    "l=[78,21,34,56]\n",
    "m=l[:] # asignamos a m una COPIA del valor de l, usando slicing \n",
    "m[2]=11 # cambiamos m"
   ]
  },
  {
   "cell_type": "code",
   "execution_count": 91,
   "metadata": {},
   "outputs": [
    {
     "data": {
      "text/plain": [
       "[78, 21, 11, 56]"
      ]
     },
     "execution_count": 91,
     "metadata": {},
     "output_type": "execute_result"
    }
   ],
   "source": [
    "m # el valor de m se ha modificado "
   ]
  },
  {
   "cell_type": "code",
   "execution_count": 92,
   "metadata": {},
   "outputs": [
    {
     "data": {
      "text/plain": [
       "[78, 21, 34, 56]"
      ]
     },
     "execution_count": 92,
     "metadata": {},
     "output_type": "execute_result"
    }
   ],
   "source": [
    "l # el valor de l no se ha modificado"
   ]
  },
  {
   "cell_type": "code",
   "execution_count": 93,
   "metadata": {},
   "outputs": [
    {
     "data": {
      "text/plain": [
       "[1, [3, 4], 2]"
      ]
     },
     "execution_count": 93,
     "metadata": {},
     "output_type": "execute_result"
    }
   ],
   "source": [
    "x=[3,4]\n",
    "l=[1,x,2]\n",
    "l"
   ]
  },
  {
   "cell_type": "code",
   "execution_count": 94,
   "metadata": {},
   "outputs": [],
   "source": [
    "r=l[:]"
   ]
  },
  {
   "cell_type": "code",
   "execution_count": 95,
   "metadata": {},
   "outputs": [
    {
     "data": {
      "text/plain": [
       "[1, [3, 4], 2]"
      ]
     },
     "execution_count": 95,
     "metadata": {},
     "output_type": "execute_result"
    }
   ],
   "source": [
    "r"
   ]
  },
  {
   "cell_type": "code",
   "execution_count": 96,
   "metadata": {},
   "outputs": [
    {
     "data": {
      "text/plain": [
       "[8, [3, 4], 2]"
      ]
     },
     "execution_count": 96,
     "metadata": {},
     "output_type": "execute_result"
    }
   ],
   "source": [
    "r[0]=8\n",
    "r"
   ]
  },
  {
   "cell_type": "code",
   "execution_count": 97,
   "metadata": {},
   "outputs": [
    {
     "data": {
      "text/plain": [
       "[1, [3, 4], 2]"
      ]
     },
     "execution_count": 97,
     "metadata": {},
     "output_type": "execute_result"
    }
   ],
   "source": [
    "l"
   ]
  },
  {
   "cell_type": "code",
   "execution_count": 98,
   "metadata": {},
   "outputs": [
    {
     "data": {
      "text/plain": [
       "[8, [5, 4], 2]"
      ]
     },
     "execution_count": 98,
     "metadata": {},
     "output_type": "execute_result"
    }
   ],
   "source": [
    "r[1][0]=5\n",
    "r"
   ]
  },
  {
   "cell_type": "code",
   "execution_count": 99,
   "metadata": {},
   "outputs": [
    {
     "data": {
      "text/plain": [
       "[1, [5, 4], 2]"
      ]
     },
     "execution_count": 99,
     "metadata": {},
     "output_type": "execute_result"
    }
   ],
   "source": [
    "l"
   ]
  },
  {
   "cell_type": "markdown",
   "metadata": {},
   "source": [
    "Algunos métodos de la clase lista:"
   ]
  },
  {
   "cell_type": "code",
   "execution_count": 100,
   "metadata": {},
   "outputs": [],
   "source": [
    "r = [\"a\",1,\"b\",2,\"c\",\"3\"]"
   ]
  },
  {
   "cell_type": "markdown",
   "metadata": {},
   "source": [
    "Los métodos `append` y `extend`, respectivamente, añaden un elemento al final, y concatenan una lista al final. Estos métodos son métodos __destructivos__, es decir, modifican la lista sobre la que se aplican. "
   ]
  },
  {
   "cell_type": "code",
   "execution_count": 101,
   "metadata": {},
   "outputs": [],
   "source": [
    "r.append(\"d\")"
   ]
  },
  {
   "cell_type": "code",
   "execution_count": 102,
   "metadata": {},
   "outputs": [
    {
     "data": {
      "text/plain": [
       "['a', 1, 'b', 2, 'c', '3', 'd']"
      ]
     },
     "execution_count": 102,
     "metadata": {},
     "output_type": "execute_result"
    }
   ],
   "source": [
    "r"
   ]
  },
  {
   "cell_type": "code",
   "execution_count": 103,
   "metadata": {},
   "outputs": [],
   "source": [
    "r.extend([4,\"e\"])"
   ]
  },
  {
   "cell_type": "code",
   "execution_count": 104,
   "metadata": {},
   "outputs": [
    {
     "data": {
      "text/plain": [
       "['a', 1, 'b', 2, 'c', '3', 'd', 4, 'e']"
      ]
     },
     "execution_count": 104,
     "metadata": {},
     "output_type": "execute_result"
    }
   ],
   "source": [
    "r "
   ]
  },
  {
   "cell_type": "markdown",
   "metadata": {},
   "source": [
    "El método `pop`, igualmente destructivo, elimina un elemento de una lista (especificando la posición, por defecto la última), y devuelve dicho elemento como valor. "
   ]
  },
  {
   "cell_type": "code",
   "execution_count": 105,
   "metadata": {},
   "outputs": [
    {
     "data": {
      "text/plain": [
       "'e'"
      ]
     },
     "execution_count": 105,
     "metadata": {},
     "output_type": "execute_result"
    }
   ],
   "source": [
    "r.pop()"
   ]
  },
  {
   "cell_type": "code",
   "execution_count": 106,
   "metadata": {},
   "outputs": [
    {
     "data": {
      "text/plain": [
       "['a', 1, 'b', 2, 'c', '3', 'd', 4]"
      ]
     },
     "execution_count": 106,
     "metadata": {},
     "output_type": "execute_result"
    }
   ],
   "source": [
    "r"
   ]
  },
  {
   "cell_type": "code",
   "execution_count": 107,
   "metadata": {},
   "outputs": [
    {
     "data": {
      "text/plain": [
       "'a'"
      ]
     },
     "execution_count": 107,
     "metadata": {},
     "output_type": "execute_result"
    }
   ],
   "source": [
    "r.pop(0)"
   ]
  },
  {
   "cell_type": "code",
   "execution_count": 108,
   "metadata": {},
   "outputs": [
    {
     "data": {
      "text/plain": [
       "[1, 'b', 2, 'c', '3', 'd', 4]"
      ]
     },
     "execution_count": 108,
     "metadata": {},
     "output_type": "execute_result"
    }
   ],
   "source": [
    "r"
   ]
  },
  {
   "cell_type": "markdown",
   "metadata": {},
   "source": [
    "El método `insert` inserta de forma destructiva un elemento en una lista, en una posición dada:"
   ]
  },
  {
   "cell_type": "code",
   "execution_count": 109,
   "metadata": {},
   "outputs": [
    {
     "data": {
      "text/plain": [
       "[1, 'b', 2, 'x', 'c', '3', 'd', 4]"
      ]
     },
     "execution_count": 109,
     "metadata": {},
     "output_type": "execute_result"
    }
   ],
   "source": [
    "r.insert(3,\"x\")\n",
    "r"
   ]
  },
  {
   "cell_type": "markdown",
   "metadata": {},
   "source": [
    "### 9. Diccionarios"
   ]
  },
  {
   "cell_type": "markdown",
   "metadata": {},
   "source": [
    "Un diccionario en Python es una estructura de datos que permite asignar valores a una serie de elementos (claves). En otros lenguajes de programación, esta estructura de datos se conoce como _map_ o _tabla hash_. Se representan como un conjunto de parejas _clave:valor_, separadas por comas y escritas entre llaves. En el siguiente ejemplo creamos un diccionario en el que la clave `\"juan\"`tienen asignado el valor `4098`, y la clave `\"ana\"`tienen asignado el valor `4139`:"
   ]
  },
  {
   "cell_type": "code",
   "execution_count": 110,
   "metadata": {},
   "outputs": [],
   "source": [
    " dict_tel = {\"juan\": 4098, \"ana\": 4139}"
   ]
  },
  {
   "cell_type": "markdown",
   "metadata": {},
   "source": [
    "Usaremos este ejemplo para ver las operaciones más usuales con diccionarios:"
   ]
  },
  {
   "cell_type": "markdown",
   "metadata": {},
   "source": [
    "* Consultar si un elemento tiene asignado un valor en un diccionario (es decir, si es una de las claves):"
   ]
  },
  {
   "cell_type": "code",
   "execution_count": 111,
   "metadata": {},
   "outputs": [
    {
     "data": {
      "text/plain": [
       "True"
      ]
     },
     "execution_count": 111,
     "metadata": {},
     "output_type": "execute_result"
    }
   ],
   "source": [
    "\"ana\" in dict_tel"
   ]
  },
  {
   "cell_type": "markdown",
   "metadata": {},
   "source": [
    "* Consultar el valor que tiene asignada una clave en un diccionario:"
   ]
  },
  {
   "cell_type": "code",
   "execution_count": 112,
   "metadata": {},
   "outputs": [
    {
     "data": {
      "text/plain": [
       "4139"
      ]
     },
     "execution_count": 112,
     "metadata": {},
     "output_type": "execute_result"
    }
   ],
   "source": [
    "dict_tel[\"ana\"]"
   ]
  },
  {
   "cell_type": "markdown",
   "metadata": {},
   "source": [
    "* Incluir una nueva clave con su valor (como se ve en este ejemplo, los diccionarios son __mutables__):"
   ]
  },
  {
   "cell_type": "code",
   "execution_count": 113,
   "metadata": {},
   "outputs": [],
   "source": [
    "dict_tel[\"pedro\"]=2321"
   ]
  },
  {
   "cell_type": "code",
   "execution_count": 114,
   "metadata": {},
   "outputs": [
    {
     "data": {
      "text/plain": [
       "{'juan': 4098, 'ana': 4139, 'pedro': 2321}"
      ]
     },
     "execution_count": 114,
     "metadata": {},
     "output_type": "execute_result"
    }
   ],
   "source": [
    "dict_tel"
   ]
  },
  {
   "cell_type": "markdown",
   "metadata": {},
   "source": [
    "* Cambiar de valor a una clave ya existente:"
   ]
  },
  {
   "cell_type": "code",
   "execution_count": 115,
   "metadata": {},
   "outputs": [],
   "source": [
    "dict_tel[\"juan\"]=7989"
   ]
  },
  {
   "cell_type": "code",
   "execution_count": 116,
   "metadata": {},
   "outputs": [
    {
     "data": {
      "text/plain": [
       "{'juan': 7989, 'ana': 4139, 'pedro': 2321}"
      ]
     },
     "execution_count": 116,
     "metadata": {},
     "output_type": "execute_result"
    }
   ],
   "source": [
    "dict_tel"
   ]
  },
  {
   "cell_type": "markdown",
   "metadata": {},
   "source": [
    "* Borrar una clave ya existente:"
   ]
  },
  {
   "cell_type": "code",
   "execution_count": 117,
   "metadata": {},
   "outputs": [],
   "source": [
    "del dict_tel[\"ana\"]"
   ]
  },
  {
   "cell_type": "code",
   "execution_count": 118,
   "metadata": {},
   "outputs": [
    {
     "data": {
      "text/plain": [
       "{'juan': 7989, 'pedro': 2321}"
      ]
     },
     "execution_count": 118,
     "metadata": {},
     "output_type": "execute_result"
    }
   ],
   "source": [
    "dict_tel"
   ]
  },
  {
   "cell_type": "markdown",
   "metadata": {},
   "source": [
    "### 10. Estructuras de control"
   ]
  },
  {
   "cell_type": "markdown",
   "metadata": {},
   "source": [
    "Una estructura de control es una instrucción que \"dirige\" la secuencia de operaciones que se quieren ejecutar. En Python tenemos las siguientes:\n",
    "* Condicional (`if`)\n",
    "* Bucle (`while`)\n",
    "* Bucle (`for`)"
   ]
  },
  {
   "cell_type": "markdown",
   "metadata": {},
   "source": [
    "__El condicional `if`__"
   ]
  },
  {
   "cell_type": "markdown",
   "metadata": {},
   "source": [
    "Lo que sigue es un ejemplo de una instrucción condicional con `if`. Nótese que los distintos bloques de código están __indentados__ (por defecto, cuatro espacios) respecto de las líneas donde están las condiciones. La primera condición empieza con `if`, las siguientes (opcionales)  con `elif`, y la última (también opcional) con `else`. _No olviden los dos puntos al final de cada condición_. "
   ]
  },
  {
   "cell_type": "code",
   "execution_count": 119,
   "metadata": {},
   "outputs": [],
   "source": [
    "#x = int(input(\"Escribe un entero: \"))\n",
    "\n",
    "#if x < 0:\n",
    "#    print(\"Negativo:\", x)\n",
    "#elif x == 0:\n",
    "#    print(\"Cero\")\n",
    "#else:\n",
    "#    print(\"{} es positivo:\".format(x))"
   ]
  },
  {
   "cell_type": "markdown",
   "metadata": {},
   "source": [
    "__El bucle `while`__"
   ]
  },
  {
   "cell_type": "markdown",
   "metadata": {},
   "source": [
    "En un bucle `while`, se repite un conjunto de operaciones mientras se cumple una condición. Veamos un ejemplo:"
   ]
  },
  {
   "cell_type": "code",
   "execution_count": 120,
   "metadata": {},
   "outputs": [
    {
     "data": {
      "text/plain": [
       "2"
      ]
     },
     "execution_count": 120,
     "metadata": {},
     "output_type": "execute_result"
    }
   ],
   "source": [
    "# Buscar la posición ind de un elemento en una lista. Si no se encuentra, ind=-1\n",
    "\n",
    "ind = 0\n",
    "busco = \"premio\"\n",
    "lst = [\"nada\",\"pierdo\",\"premio\",\"sigue\"]\n",
    "\n",
    "while ind < len(lst) and lst[ind] != busco:\n",
    "    ind += 1\n",
    "\n",
    "if ind == len(lst):\n",
    "    ind=-1\n",
    "\n",
    "ind"
   ]
  },
  {
   "cell_type": "markdown",
   "metadata": {},
   "source": [
    "__El bucle `for`__"
   ]
  },
  {
   "cell_type": "markdown",
   "metadata": {},
   "source": [
    "El bucle `for` es una estructura de control que nos sirve para iterar un bloque de código. Es extremadamente versátil, permitiéndonos expresar esas repeticiones de formas muy variadas."
   ]
  },
  {
   "cell_type": "markdown",
   "metadata": {},
   "source": [
    "Por el momento, veamos sólo dos posibilidades muy básicas para el bucle `for`:\n",
    "\n",
    "* `for var in seq`\n",
    "* `for var in range(n)`"
   ]
  },
  {
   "cell_type": "markdown",
   "metadata": {},
   "source": [
    "En el primer caso, `seq` es una secuencia (por ejemplo, una lista, tupla, o string), generándose tantas iteraciones como elementos tenga la secuencia, y en cada iteración, `var`va tomando los sucesivos valores de la secuencia. Por ejemplo:"
   ]
  },
  {
   "cell_type": "code",
   "execution_count": 121,
   "metadata": {},
   "outputs": [
    {
     "data": {
      "text/plain": [
       "6.0"
      ]
     },
     "execution_count": 121,
     "metadata": {},
     "output_type": "execute_result"
    }
   ],
   "source": [
    "# Cálculo de media aritmética\n",
    "l, suma, n = [1,5,8,12,3,7], 0, 0\n",
    "\n",
    "for e in l:\n",
    "    suma += e\n",
    "    n +=1\n",
    "\n",
    "suma/n"
   ]
  },
  {
   "cell_type": "markdown",
   "metadata": {},
   "source": [
    "El segundo puede verse como un caso particular del primero. La expresión `range(n)` obtiene una secuencia con los `n` primeros números naturales (comenzando en `0` y excluyendo el `n`), y el bucle itera sobre esa secuencia. En su versión más general, `range` acepta tres argumentos, `range(inicio, fin, salto)`, con el mismo significado que en el operador de _slicing_. \n",
    "\n",
    "_Nota_: en realidad, `range` no es una secuencia, sino un _iterador_. Más adelante comentaremos sobre los iteradores, pero de momento podemos verlo como secuencia.\n",
    "\n",
    "Un ejemplo:"
   ]
  },
  {
   "cell_type": "code",
   "execution_count": 122,
   "metadata": {},
   "outputs": [
    {
     "name": "stdout",
     "output_type": "stream",
     "text": [
      "9 es 3 * 3\n",
      "15 es 3 * 5\n"
     ]
    },
    {
     "data": {
      "text/plain": [
       "[3, 5, 7, 11, 13, 17, 19]"
      ]
     },
     "execution_count": 122,
     "metadata": {},
     "output_type": "execute_result"
    }
   ],
   "source": [
    "# Cálculo de números primos entre 3 y 20\n",
    "\n",
    "primos = []\n",
    "for n in range(3, 20, 2):\n",
    "    for x in range(2, n):\n",
    "        if n % x == 0:\n",
    "            print(n, \"es\", x, \"*\", n//x)\n",
    "            break\n",
    "    else:\n",
    "        primos.append(n)\n",
    "        \n",
    "primos"
   ]
  },
  {
   "cell_type": "markdown",
   "metadata": {},
   "source": [
    "Varios comentarios interesantes en el ejemplo anterior:\n",
    "\n",
    "- En el ejemplo, usamos _bucles anidados_. El externo recorre los números entre `3` y `20`, y el interno recorre los posibles divisores de cada uno de esos números. \n",
    "- El comando `break` provoca que finalice la iteración actual y las restantes dentro de un bucle (el más cercano si está dentro de un bucle anidado). En este caso, si se encuentra un divisor, imprime y no sigue buscando más: no hay más iteraciones en el bucle interno y pasa a la siguiente iteración en el externo.\n",
    "- Hay una diferencia entre imprimir algo por pantalla (con `print`), y la devolución de un valor (el valor final de la variable `primos`, en este caso).  \n",
    "- Aunque poco usado, el bucle `for` puede llevar un `else` al final, con un bloque de instrucciones adicional, que se ejecutará si el bucle termina de manera \"natural\", es decir, agotando la secuencia de iteración. "
   ]
  },
  {
   "cell_type": "markdown",
   "metadata": {},
   "source": [
    "__Otros patrones de iteración__"
   ]
  },
  {
   "cell_type": "markdown",
   "metadata": {},
   "source": [
    "- `for k in dicc:` itera la variable `k` sobre las claves del diccionario `dicc`.\n",
    "- `for (k,v) in dic.items():` itera el par `(k,v)` sobre los pares $(clave,valor)$ del diccionario `dicc`.\n",
    "- `for (i,x) in enumerate(l):` itera el par `(i,x)`, donde `x` va tomando los distintos elementos de `l` e `i` la correspondiente posición de `x` en `l`.\n",
    "- `for (u,v) in zip(l,m):` itera el par `(u,v)` sobre los correspondientes elementos de `l` y `m` que ocupan la misma posición. \n",
    "- `for x in reversed(l):` itera `x` sobre la secuencia `l`, pero en orden inverso."
   ]
  },
  {
   "cell_type": "markdown",
   "metadata": {},
   "source": [
    "Veamos algunos ejemplos con estos iteradores:"
   ]
  },
  {
   "cell_type": "code",
   "execution_count": 123,
   "metadata": {},
   "outputs": [],
   "source": [
    "notas = {\"Juan Gómez\": \"notable\", \"Pedro Pérez\": \"aprobado\"}"
   ]
  },
  {
   "cell_type": "code",
   "execution_count": 124,
   "metadata": {},
   "outputs": [
    {
     "name": "stdout",
     "output_type": "stream",
     "text": [
      "Juan Gómez notable\n",
      "Pedro Pérez aprobado\n"
     ]
    }
   ],
   "source": [
    "for k in notas: print(k, notas[k])"
   ]
  },
  {
   "cell_type": "code",
   "execution_count": 125,
   "metadata": {},
   "outputs": [
    {
     "name": "stdout",
     "output_type": "stream",
     "text": [
      "Juan Gómez notable\n",
      "Pedro Pérez aprobado\n"
     ]
    }
   ],
   "source": [
    "for k, v in notas.items(): \n",
    "    print(k, v)"
   ]
  },
  {
   "cell_type": "code",
   "execution_count": 126,
   "metadata": {},
   "outputs": [
    {
     "name": "stdout",
     "output_type": "stream",
     "text": [
      "0 rojo\n",
      "1 azul\n",
      "2 amarillo\n"
     ]
    }
   ],
   "source": [
    "for i, col in enumerate([\"rojo\", \"azul\", \"amarillo\"]):\n",
    "     print(i, col)"
   ]
  },
  {
   "cell_type": "code",
   "execution_count": 127,
   "metadata": {},
   "outputs": [
    {
     "name": "stdout",
     "output_type": "stream",
     "text": [
      "Mi nombre es Juan.\n",
      "Mi apellido es Pérez.\n",
      "Mi color favorito es rojo.\n"
     ]
    }
   ],
   "source": [
    "preguntas = [\"nombre\", \"apellido\", \"color favorito\"]\n",
    "respuestas = [\"Juan\", \"Pérez\", \"rojo\"]\n",
    "\n",
    "for p, r in zip(preguntas, respuestas):\n",
    "    print(\"Mi {} es {}.\".format(p, r))"
   ]
  },
  {
   "cell_type": "code",
   "execution_count": 128,
   "metadata": {},
   "outputs": [
    {
     "name": "stdout",
     "output_type": "stream",
     "text": [
      "9-7-5-3-1-"
     ]
    }
   ],
   "source": [
    "for i in reversed(range(1, 10, 2)): print(i,end=\"-\")"
   ]
  },
  {
   "cell_type": "markdown",
   "metadata": {},
   "source": [
    "__Iteradores:__ Las anteriores funciones (`items`, `enumerate`, `zip`, `reversed`,...) generan lo que en Python se conoce como _iterador_. Sin entrar en detalles, son tipos de datos que tiene sentido recorrerlos en _secuencia_ y en los que hay cierta noción de _siguiente_. Por ejemplo, las listas son iteradores. También hay iteradores que no generan explicitamente la secuencia de antemano, sino a medida que se van recorriendo, lo cual puede ser más eficiente.   "
   ]
  },
  {
   "cell_type": "markdown",
   "metadata": {},
   "source": [
    "### 11. Definición de funciones"
   ]
  },
  {
   "cell_type": "markdown",
   "metadata": {},
   "source": [
    "Para definir funciones en Python usamos la expresión `def` seguida del nombre de la función y la secuencia de sus argumentos entre paréntesis. Por ejemplo:"
   ]
  },
  {
   "cell_type": "code",
   "execution_count": 129,
   "metadata": {},
   "outputs": [],
   "source": [
    "def suma_prod(k,l):\n",
    "    acum=0\n",
    "    for x in l:\n",
    "        acum+=k*x\n",
    "    return acum"
   ]
  },
  {
   "cell_type": "markdown",
   "metadata": {},
   "source": [
    "La expresión anterior _define_ la función de nombre `suma_prod` con dos argumentos `k` y `l`, que devuelve la suma de las multiplicaciones del número `k` con cada uno de los elementos de la lista `l`. Lo siguiente son llamadas a esta función sobre distintos argumentos: "
   ]
  },
  {
   "cell_type": "code",
   "execution_count": 130,
   "metadata": {},
   "outputs": [
    {
     "data": {
      "text/plain": [
       "75"
      ]
     },
     "execution_count": 130,
     "metadata": {},
     "output_type": "execute_result"
    }
   ],
   "source": [
    "suma_prod(3,[5,1,3,7,9])"
   ]
  },
  {
   "cell_type": "code",
   "execution_count": 131,
   "metadata": {},
   "outputs": [
    {
     "data": {
      "text/plain": [
       "927"
      ]
     },
     "execution_count": 131,
     "metadata": {},
     "output_type": "execute_result"
    }
   ],
   "source": [
    "suma_prod(9,[12,1,45,6,8,9,11,3,3,5])"
   ]
  },
  {
   "cell_type": "markdown",
   "metadata": {},
   "source": [
    "__Importante__: hay que usar `return` para que una función devuelva un valor (en caso contrario, devolvería `None`). Usar `print` sólo imprimiría por pantalla lo calculado, pero la función no lo devolvería como valor, y por tanto no podría usarse para almacenarse o para posteriores cálculos. \n",
    "\n",
    "El siguiente ejemplo permitirá entender esto mejor"
   ]
  },
  {
   "cell_type": "code",
   "execution_count": 132,
   "metadata": {},
   "outputs": [],
   "source": [
    "# Es como la función anterior, pero usando `print`en lugar de `return`\n",
    "def suma_prod2(k,l):\n",
    "    acum=0\n",
    "    for x in l:\n",
    "        acum+=k*x\n",
    "    print(acum)"
   ]
  },
  {
   "cell_type": "code",
   "execution_count": 133,
   "metadata": {},
   "outputs": [
    {
     "name": "stdout",
     "output_type": "stream",
     "text": [
      "75\n"
     ]
    }
   ],
   "source": [
    "suma_prod2(3,[5,1,3,7,9]) # el valor calculado se ha imprimido"
   ]
  },
  {
   "cell_type": "code",
   "execution_count": 134,
   "metadata": {},
   "outputs": [
    {
     "data": {
      "text/plain": [
       "70"
      ]
     },
     "execution_count": 134,
     "metadata": {},
     "output_type": "execute_result"
    }
   ],
   "source": [
    "# Esto tiene sentido:\n",
    "suma_prod(2,[1,3,5])+suma_prod(4,[2,1,4,6])"
   ]
  },
  {
   "cell_type": "code",
   "execution_count": 135,
   "metadata": {},
   "outputs": [
    {
     "data": {
      "text/plain": [
       "36"
      ]
     },
     "execution_count": 135,
     "metadata": {},
     "output_type": "execute_result"
    }
   ],
   "source": [
    "# Y esto también:\n",
    "v=suma_prod(2,[1,3,5])\n",
    "2*v"
   ]
  },
  {
   "cell_type": "code",
   "execution_count": 136,
   "metadata": {},
   "outputs": [],
   "source": [
    "# Sin embargo, esto es erróneo, porque la función suma_prod2 devuelve None y no es un número\n",
    "# v=suma_prod2(2,[1,3,5])\n",
    "#2*v\n",
    "\n",
    "# 18\n",
    "# ---------------------------------------------------------------------------\n",
    "# TypeError                                 Traceback (most recent call last)\n",
    "# <ipython-input-272-24091a2d4ff4> in <module>\n",
    "#       1 # Sin embargo, esto es erróneo, porque la función suma_prod2 devuelve None y no es un número\n",
    "#       2 v=suma_prod2(2,[1,3,5])\n",
    "# ----> 3 2*v\n",
    "\n",
    "# TypeError: unsupported operand type(s) for *: 'int' and 'NoneType'\n",
    "\n"
   ]
  },
  {
   "cell_type": "code",
   "execution_count": 137,
   "metadata": {},
   "outputs": [
    {
     "name": "stdout",
     "output_type": "stream",
     "text": [
      "18\n"
     ]
    }
   ],
   "source": [
    "v=suma_prod2(2,[1,3,5])"
   ]
  },
  {
   "cell_type": "code",
   "execution_count": 138,
   "metadata": {},
   "outputs": [],
   "source": [
    "v"
   ]
  },
  {
   "cell_type": "markdown",
   "metadata": {},
   "source": [
    "Generalmente, para llamar a una función, los argumentos se colocan en el mismo orden en el que se ha hecho la definición. Por ejemplo, en la llamada `suma_prod(3,[5,1,3,7,9])`, el `3` juega el papel de la `k` y `[5,1,3,7,9]` el de la `l` de la definición. \n",
    "\n",
    "Sin embargo, podríamos llamarlo usando los nombres de los argumentos en la llamada, sin tener que colocarlos en el mismo orden (lo que se denomina llamada con argumentos clave). Lo siguiente es equivalente a `suma_prod(3,[5,1,3,7,9])`:"
   ]
  },
  {
   "cell_type": "code",
   "execution_count": 139,
   "metadata": {},
   "outputs": [
    {
     "data": {
      "text/plain": [
       "75"
      ]
     },
     "execution_count": 139,
     "metadata": {},
     "output_type": "execute_result"
    }
   ],
   "source": [
    "suma_prod(l=[5,1,3,7,9],k=3)"
   ]
  },
  {
   "cell_type": "markdown",
   "metadata": {},
   "source": [
    "Cuando definimos una función podríamos indicar un valor por defecto para alguno de sus argumentos. En ese caso, si en una llamada a la función no se indica valor para ese argumento, se toma el valor por defecto que se ha indicado en la definición:"
   ]
  },
  {
   "cell_type": "code",
   "execution_count": 140,
   "metadata": {},
   "outputs": [],
   "source": [
    "def j(x,y,z=0): \n",
    "    return(x**y + z)"
   ]
  },
  {
   "cell_type": "code",
   "execution_count": 141,
   "metadata": {},
   "outputs": [
    {
     "data": {
      "text/plain": [
       "8"
      ]
     },
     "execution_count": 141,
     "metadata": {},
     "output_type": "execute_result"
    }
   ],
   "source": [
    "j(2,3) # Valor del tercer argumento 0 (por defecto)"
   ]
  },
  {
   "cell_type": "code",
   "execution_count": 142,
   "metadata": {},
   "outputs": [
    {
     "data": {
      "text/plain": [
       "12"
      ]
     },
     "execution_count": 142,
     "metadata": {},
     "output_type": "execute_result"
    }
   ],
   "source": [
    "j(2,3,4)"
   ]
  },
  {
   "cell_type": "markdown",
   "metadata": {},
   "source": [
    "### 12. Clases"
   ]
  },
  {
   "cell_type": "markdown",
   "metadata": {},
   "source": [
    "Como ya se ha visto al hablar de las clases predefinidas de python, una clase es una forma de estructurar un conjunto de datos o *atributos*, desarrollando además un conjunto de *métodos*, que son formas predefinidas de actuar sobre estos datos. Además de las clases predefinidas en el lenguaje, podemos definir nuestras propias clases mdiante la sentencia `class`. "
   ]
  },
  {
   "cell_type": "markdown",
   "metadata": {},
   "source": [
    "Por ejemplo, el siguiente bloque define la clase `Punto` con dos *atributos* `x` e `y`, y un método `distancia_al_origen`. También incluye la definición de dos métodos especiales, `__eq__` y `__str__`."
   ]
  },
  {
   "cell_type": "code",
   "execution_count": 143,
   "metadata": {},
   "outputs": [],
   "source": [
    "class Punto(object):\n",
    "    def __init__(self,x=0,y=0):\n",
    "        self.x = x\n",
    "        self.y = y\n",
    "        \n",
    "    def distancia_al_origen(self):\n",
    "        return (self.x**2+self.y**2)**(1/2)\n",
    "    \n",
    "    def __eq__(self,punto):\n",
    "        return self.x == punto.x and self.y == punto.y\n",
    "    \n",
    "    def __str__(self):\n",
    "        return \"({},{})\".format(self.x,self.y)"
   ]
  },
  {
   "cell_type": "markdown",
   "metadata": {},
   "source": [
    "Al definir una clase, estamos describiendo una estructura o patrón común que van a seguir todos los datos de esa clase, que llamaremos *objetos* o *instancias*. En la definición de una clase, `self` hace referencia al propio objeto. Como se observa, siempre es el primer argumento de los métodos que se definen en la clase. Este primer argumento no se hará explícito cuando se use el método, sino que toma su valor del objeto sobre el que se evalúa el método.\n",
    "\n",
    "El método `__init__` es un método especial que define cómo se construyen inicialmente los objetos de la clase. En el ejemplo anterior, el constructor recibe como argumentos de entrada dos valores `x`e `y` (por defecto con valor 0). Esos valores se almacenan respectivamente en los atributos de la clase `x`e `y` (que en este caso tienen el mismo nombre, pero no necesariamente tiene que ser así). "
   ]
  },
  {
   "cell_type": "markdown",
   "metadata": {},
   "source": [
    "Para crear *objetos* de un clase, simplemente se llama al nombre de la clase junto con los argumentos de entrada al constructor (excepto el primer argumento, `self`). Lo que sige define un objeto de la clase `Punto` y lo asigna a una variable `p`: "
   ]
  },
  {
   "cell_type": "code",
   "execution_count": 144,
   "metadata": {},
   "outputs": [],
   "source": [
    "p=Punto(2,3)"
   ]
  },
  {
   "cell_type": "markdown",
   "metadata": {},
   "source": [
    "Ahora podemos acceder a los atributos y método del objeto:"
   ]
  },
  {
   "cell_type": "code",
   "execution_count": 145,
   "metadata": {},
   "outputs": [
    {
     "data": {
      "text/plain": [
       "2"
      ]
     },
     "execution_count": 145,
     "metadata": {},
     "output_type": "execute_result"
    }
   ],
   "source": [
    "p.x"
   ]
  },
  {
   "cell_type": "code",
   "execution_count": 146,
   "metadata": {},
   "outputs": [
    {
     "data": {
      "text/plain": [
       "3"
      ]
     },
     "execution_count": 146,
     "metadata": {},
     "output_type": "execute_result"
    }
   ],
   "source": [
    "p.y"
   ]
  },
  {
   "cell_type": "code",
   "execution_count": 147,
   "metadata": {},
   "outputs": [
    {
     "data": {
      "text/plain": [
       "3.605551275463989"
      ]
     },
     "execution_count": 147,
     "metadata": {},
     "output_type": "execute_result"
    }
   ],
   "source": [
    "p.distancia_al_origen()"
   ]
  },
  {
   "cell_type": "markdown",
   "metadata": {},
   "source": [
    "En general, si tenemos un objeto `o` y uno de sus atributos `atr`, para acceder al valor de ese atributo en el objeto lo hacemos con la notación `o.atr`. Si se trata de un método `f`, se aplica con la notación `o.f(...)`, proporcionando los argumentos de entrada que se han definido para el método (excepto el primer argumento, que no se proporciona ya que es el propio objeto)."
   ]
  },
  {
   "cell_type": "markdown",
   "metadata": {},
   "source": [
    "Hay otros métodos especiales que se pueden definir en todas las clases, y que tienen nombres especiales reservados. No es obligatorio definirlos, pero si se definen en la clase tienen una finalidad específica. Como `__eq__`, que sirve para definir cómo se comparan dos objetos de la clase; o `__str__`, que sirve para proporcionar una representación de un objeto de la clase en forma de cadena."
   ]
  },
  {
   "cell_type": "markdown",
   "metadata": {},
   "source": [
    "El método `__eq__` de la clase `Punto` permite comparar dos objetos de esta clase. Cuando se llama a la igualdad entre dos objetos de la clase punto, Python usará la definición de `__eq__`:"
   ]
  },
  {
   "cell_type": "code",
   "execution_count": 148,
   "metadata": {},
   "outputs": [
    {
     "data": {
      "text/plain": [
       "True"
      ]
     },
     "execution_count": 148,
     "metadata": {},
     "output_type": "execute_result"
    }
   ],
   "source": [
    "q=Punto(2,3)\n",
    "p == q"
   ]
  },
  {
   "cell_type": "markdown",
   "metadata": {},
   "source": [
    "El método `__str__` de la clase `Punto` nos presenta el contenido de un objeto de forma legible. Cuando se hace `print`de un objeto de la clase, es el método que emplea Python para imprimirlo:"
   ]
  },
  {
   "cell_type": "code",
   "execution_count": 149,
   "metadata": {},
   "outputs": [
    {
     "name": "stdout",
     "output_type": "stream",
     "text": [
      "(2,3)\n"
     ]
    }
   ],
   "source": [
    "print(p)"
   ]
  },
  {
   "cell_type": "markdown",
   "metadata": {},
   "source": [
    "#### Subclases y herencia"
   ]
  },
  {
   "cell_type": "markdown",
   "metadata": {},
   "source": [
    "En python, es posible definir clases que son subclase de otra clase y que por tanto \"heredan\" sus atributos y métodos. La clase \"padre\" se indica a continuación del nombre de la clase, entre paréntesis. "
   ]
  },
  {
   "cell_type": "markdown",
   "metadata": {},
   "source": [
    "Por ejemplo, lo siguiente define la clase `Círculo` como subclase de la clase `Punto`:"
   ]
  },
  {
   "cell_type": "code",
   "execution_count": 150,
   "metadata": {},
   "outputs": [],
   "source": [
    "import math\n",
    "\n",
    "class Círculo(Punto):\n",
    "    def __init__(self, radio, x=0, y=0):\n",
    "        super().__init__(x, y)\n",
    "        self.radio = radio\n",
    "\n",
    "    def distancia_del_borde_al_origen(self):\n",
    "        return abs(self.distancia_al_origen() - self.radio)\n",
    "\n",
    "    def area(self):\n",
    "        return math.pi * (self.radio**2)\n",
    "\n",
    "    def circunferencia(self):\n",
    "        return 2 * math.pi * self.radio\n",
    "\n",
    "    def __eq__(self, otro):\n",
    "        return self.radio == (otro.radio and super().__eq__(otro,self))\n",
    "\n",
    "    def __str__(self):\n",
    "        return \"Círculo({0.radio!r}, {0.x!r}, {0.y!r})\".format(self)\n"
   ]
  },
  {
   "cell_type": "markdown",
   "metadata": {},
   "source": [
    "La clase `Círculo` hereda de la clase `Punto` sus atributos y métodos y además define tres métodos adicionales y redefine los métodos especiales `__eq__`y `__str__`.  "
   ]
  },
  {
   "cell_type": "code",
   "execution_count": 151,
   "metadata": {},
   "outputs": [],
   "source": [
    "p=Punto(3,4)\n",
    "c=Círculo(1,3,4)"
   ]
  },
  {
   "cell_type": "code",
   "execution_count": 152,
   "metadata": {},
   "outputs": [
    {
     "name": "stdout",
     "output_type": "stream",
     "text": [
      "(3,4)\n",
      "Círculo(1, 3, 4)\n"
     ]
    }
   ],
   "source": [
    "print(p)\n",
    "print(c)"
   ]
  },
  {
   "cell_type": "code",
   "execution_count": 153,
   "metadata": {},
   "outputs": [
    {
     "data": {
      "text/plain": [
       "5.0"
      ]
     },
     "execution_count": 153,
     "metadata": {},
     "output_type": "execute_result"
    }
   ],
   "source": [
    "p.distancia_al_origen()"
   ]
  },
  {
   "cell_type": "code",
   "execution_count": 154,
   "metadata": {},
   "outputs": [
    {
     "data": {
      "text/plain": [
       "5.0"
      ]
     },
     "execution_count": 154,
     "metadata": {},
     "output_type": "execute_result"
    }
   ],
   "source": [
    "c.distancia_al_origen()"
   ]
  },
  {
   "cell_type": "code",
   "execution_count": 155,
   "metadata": {},
   "outputs": [
    {
     "data": {
      "text/plain": [
       "4.0"
      ]
     },
     "execution_count": 155,
     "metadata": {},
     "output_type": "execute_result"
    }
   ],
   "source": [
    "c.distancia_del_borde_al_origen()"
   ]
  },
  {
   "cell_type": "markdown",
   "metadata": {},
   "source": [
    "### 13. Definiciones por comprensión"
   ]
  },
  {
   "cell_type": "markdown",
   "metadata": {},
   "source": [
    "Los datos en Python que implican algún tipo de _colección_ (tuplas, listas, diccionarios, conjuntos,..) pueden definirse mediante __comprensión__, es decir mediante la descripción de los elementos que lo forman. Veamos algunos ejemplos."
   ]
  },
  {
   "cell_type": "markdown",
   "metadata": {},
   "source": [
    "Por ejemplo, la lista de los cuadrados de los números naturales entre 3 y 9, se definiría:"
   ]
  },
  {
   "cell_type": "code",
   "execution_count": 156,
   "metadata": {},
   "outputs": [
    {
     "data": {
      "text/plain": [
       "[9, 16, 25, 36, 49, 64]"
      ]
     },
     "execution_count": 156,
     "metadata": {},
     "output_type": "execute_result"
    }
   ],
   "source": [
    "[a*a for a in range(3,9)]"
   ]
  },
  {
   "cell_type": "markdown",
   "metadata": {},
   "source": [
    "Si sólo queremos generar los cuadrados de aquellos que sean pares:"
   ]
  },
  {
   "cell_type": "code",
   "execution_count": 157,
   "metadata": {},
   "outputs": [
    {
     "data": {
      "text/plain": [
       "[16, 36, 64]"
      ]
     },
     "execution_count": 157,
     "metadata": {},
     "output_type": "execute_result"
    }
   ],
   "source": [
    "[a*a for a in range(3,9) if a%2==0]"
   ]
  },
  {
   "cell_type": "markdown",
   "metadata": {},
   "source": [
    "Una definición que itera sobre listas:"
   ]
  },
  {
   "cell_type": "code",
   "execution_count": 158,
   "metadata": {},
   "outputs": [
    {
     "data": {
      "text/plain": [
       "[('a', 'aa'), ('b', 'bb'), ('c', 'cc'), ('d', 'dd')]"
      ]
     },
     "execution_count": 158,
     "metadata": {},
     "output_type": "execute_result"
    }
   ],
   "source": [
    "[(x,2*x) for x in [\"a\",\"b\",\"c\",\"d\"]]"
   ]
  },
  {
   "cell_type": "markdown",
   "metadata": {},
   "source": [
    "O incluso con iteraciones anidadas:"
   ]
  },
  {
   "cell_type": "code",
   "execution_count": 159,
   "metadata": {},
   "outputs": [
    {
     "data": {
      "text/plain": [
       "[(1, 'a'),\n",
       " (1, 'b'),\n",
       " (1, 'c'),\n",
       " (2, 'a'),\n",
       " (2, 'b'),\n",
       " (2, 'c'),\n",
       " (3, 'a'),\n",
       " (3, 'b'),\n",
       " (3, 'c')]"
      ]
     },
     "execution_count": 159,
     "metadata": {},
     "output_type": "execute_result"
    }
   ],
   "source": [
    "[(x,y) for x in [1,2,3] for y in [\"a\",\"b\",\"c\"]]"
   ]
  },
  {
   "cell_type": "markdown",
   "metadata": {},
   "source": [
    "Ejemplo de definición de diccionario por comprensión:"
   ]
  },
  {
   "cell_type": "code",
   "execution_count": 160,
   "metadata": {},
   "outputs": [
    {
     "data": {
      "text/plain": [
       "{'manzana': ('Manzana', 7), 'plátano': ('Plátano', 7), 'melón': ('Melón', 5)}"
      ]
     },
     "execution_count": 160,
     "metadata": {},
     "output_type": "execute_result"
    }
   ],
   "source": [
    "{f:(f.capitalize(),len(f)) for f in [\"pera\",\"manzana\",\"kiwi\",\"plátano\",\"melón\"] if len(f)>4}"
   ]
  },
  {
   "cell_type": "markdown",
   "metadata": {},
   "source": [
    "### 14. Errores y gestión de errores"
   ]
  },
  {
   "cell_type": "markdown",
   "metadata": {},
   "source": [
    "Como en otros muchos lenguajes, Python tiene sus mecanismos para informar de errores que ocurran durante la ejecución de un programa, y también para poder gestionar, desde dentro del propio programa, qué hacer en caso de que ocurra un error durante la ejecución.  "
   ]
  },
  {
   "cell_type": "markdown",
   "metadata": {},
   "source": [
    "Existen una serie de errores predefinidos que el sistema lanza cuando ocurren determinadas cosas que no se pueden hacer. Cada uno de esos errores tiene su nombre predefinico y un mensaje de texto explicativo del error. Algunos ejemplos: \n",
    "\n",
    "- **`IndexError`**: acceso a una posición inexistente en una secuencia.\n",
    "- **`KeyError`**: acceso a un diccionario con clave errónea.\n",
    "- **`NameError`**: uso de un nombre de variable o función no definido previamente.\n",
    "- **`TypeError`**: aplicación de operaciones con tipos de datos erroneos \n",
    "- **`ValueError`**: aplicación de operaciones o funciones sobre algo de tipo adecuado pero valor inadecuado.\n",
    "- ..."
   ]
  },
  {
   "cell_type": "code",
   "execution_count": 161,
   "metadata": {},
   "outputs": [],
   "source": [
    "def devuelve_doble():\n",
    "    x= int(input(\"Introduzca un número: \"))\n",
    "    return 2*x\n",
    "\n",
    "# devuelve_doble()\n",
    "\n",
    "#Introduzca un número: a\n",
    "#---------------------------------------------------------------------------\n",
    "#ValueError                                Traceback (most recent call last)\n",
    "# <ipython-input-3-4e27c5441a1d> in <module>\n",
    "#       3     return 2*x\n",
    "#       4 \n",
    "# ----> 5 devuelve_doble()#\n",
    "#\n",
    "# <ipython-input-3-4e27c5441a1d> in devuelve_doble()\n",
    "#       1 def devuelve_doble():\n",
    "# ----> 2     x= int(input(\"Introduzca un número: \"))\n",
    "#       3     return 2*x\n",
    "#       4 \n",
    "#       5 devuelve_doble()\n",
    "#\n",
    "# ValueError: invalid literal for int() with base 10: 'a'\n"
   ]
  },
  {
   "cell_type": "markdown",
   "metadata": {},
   "source": [
    "Las excepciones se *manejan* con `try ... except`. Veamos un ejemplo:"
   ]
  },
  {
   "cell_type": "code",
   "execution_count": 162,
   "metadata": {},
   "outputs": [],
   "source": [
    "def devuelve_doble():\n",
    "    while True:\n",
    "        try:\n",
    "            x= int(input(\"Introduzca un número: \"))\n",
    "            return 2*x\n",
    "        except ValueError:\n",
    "            print(\"No es un número, inténtelo de nuevo.\")\n",
    "\n",
    "# devuelve_doble()\n",
    "            \n",
    "# Introduzca un número: a\n",
    "# No es un número, inténtelo de nuevo.\n",
    "# Introduzca un número: d\n",
    "# No es un número, inténtelo de nuevo.\n",
    "# Introduzca un número: 3\n",
    "# 6            "
   ]
  },
  {
   "cell_type": "markdown",
   "metadata": {},
   "source": [
    "### 15. Programación de segundo orden"
   ]
  },
  {
   "cell_type": "markdown",
   "metadata": {},
   "source": [
    "En Python, como en otros lenguajes con características funcionales, las funciones son un dato más, y por tanto se pueden recibir como argumentos de entrada a otras funciones, o bien devolverse como salida de otra función. Por ejemplo:"
   ]
  },
  {
   "cell_type": "code",
   "execution_count": 163,
   "metadata": {},
   "outputs": [],
   "source": [
    "def mulsum2(x,y):\n",
    "    return x*y+2\n",
    "\n",
    "def map2m(l,m,f):\n",
    "    res=[]\n",
    "    for x,y in zip(l,m):\n",
    "        res.append(f(x,y))\n",
    "    return res\n",
    "        "
   ]
  },
  {
   "cell_type": "code",
   "execution_count": null,
   "metadata": {},
   "outputs": [],
   "source": []
  },
  {
   "cell_type": "code",
   "execution_count": 164,
   "metadata": {},
   "outputs": [
    {
     "data": {
      "text/plain": [
       "[8, 11, 47, 9]"
      ]
     },
     "execution_count": 164,
     "metadata": {},
     "output_type": "execute_result"
    }
   ],
   "source": [
    "map2m([1,3,5,7],[6,3,9,1],mulsum2)"
   ]
  },
  {
   "cell_type": "markdown",
   "metadata": {},
   "source": [
    "En el ejemplo anterior, hemos definido la función `mulsum2` y hemos usado ese nombre para pasarla como como uno de los argumentos de entrada a la función `map2m`. Sin embargo, no es necesario definir un nombre de función para poder referenciarla. El mecanismo `lambda` nos permite usar una función como dato, sin tener que definirla con `def`.\n",
    "\n",
    "Por ejemplo, lo que sigue es la función de dos argumentos que eleva el primer al segundo y le suma 8:"
   ]
  },
  {
   "cell_type": "code",
   "execution_count": 165,
   "metadata": {},
   "outputs": [
    {
     "data": {
      "text/plain": [
       "<function __main__.<lambda>(u, v)>"
      ]
     },
     "execution_count": 165,
     "metadata": {},
     "output_type": "execute_result"
    }
   ],
   "source": [
    "lambda u,v:u**v+8"
   ]
  },
  {
   "cell_type": "code",
   "execution_count": 166,
   "metadata": {},
   "outputs": [
    {
     "data": {
      "text/plain": [
       "2195"
      ]
     },
     "execution_count": 166,
     "metadata": {},
     "output_type": "execute_result"
    }
   ],
   "source": [
    "(lambda u,v:u**v+8)(3,7)"
   ]
  },
  {
   "cell_type": "markdown",
   "metadata": {},
   "source": [
    "Otro ejemplo:"
   ]
  },
  {
   "cell_type": "code",
   "execution_count": 167,
   "metadata": {},
   "outputs": [
    {
     "data": {
      "text/plain": [
       "'abbb'"
      ]
     },
     "execution_count": 167,
     "metadata": {},
     "output_type": "execute_result"
    }
   ],
   "source": [
    "(lambda x,y: x+y*3)(\"a\",\"b\")"
   ]
  },
  {
   "cell_type": "markdown",
   "metadata": {},
   "source": [
    "Podemos usar directamente una `lambda` para designar a una función que es dato de entrada a otra función:"
   ]
  },
  {
   "cell_type": "code",
   "execution_count": 168,
   "metadata": {},
   "outputs": [
    {
     "data": {
      "text/plain": [
       "[9, 35, 1953133, 15]"
      ]
     },
     "execution_count": 168,
     "metadata": {},
     "output_type": "execute_result"
    }
   ],
   "source": [
    "map2m([1,3,5,7],[6,3,9,1],lambda u,v:u**v+8)"
   ]
  },
  {
   "cell_type": "markdown",
   "metadata": {},
   "source": [
    "O incluso usar el mecanismo lambda para que una función devuelva otra función como salida:"
   ]
  },
  {
   "cell_type": "code",
   "execution_count": 169,
   "metadata": {},
   "outputs": [
    {
     "data": {
      "text/plain": [
       "17"
      ]
     },
     "execution_count": 169,
     "metadata": {},
     "output_type": "execute_result"
    }
   ],
   "source": [
    "def suma_x(x):\n",
    "    return lambda u: u+x\n",
    "\n",
    "suma_x(9)(8)"
   ]
  },
  {
   "cell_type": "markdown",
   "metadata": {},
   "source": [
    "### 16. Entrada y salida de ficheros"
   ]
  },
  {
   "cell_type": "markdown",
   "metadata": {},
   "source": [
    "Veamos algunos mecanismos básicos de Python para la entrada y salida en archivos. Es probable que estos mecanismos básicos se lleguen a usar poco, ya que existen algunas bibliotecas de uso común que extienden ampliamente todas estas funcionalidades. Pero en cualquier caso es conveniente conocer la entrada y salida predefinida en python."
   ]
  },
  {
   "cell_type": "markdown",
   "metadata": {},
   "source": [
    "Mediante `open` creamos un objeto de tipo fichero, creando una conexión con el fichero \"físico\" que gestiona el sistema operativo. "
   ]
  },
  {
   "cell_type": "code",
   "execution_count": 170,
   "metadata": {},
   "outputs": [],
   "source": [
    "#f=open(\"fichero.txt\",\"r\")\n",
    "#f"
   ]
  },
  {
   "cell_type": "markdown",
   "metadata": {},
   "source": [
    "Existen diversos modos de abrir un fichero:\n",
    "* `open('fichero.txt','r')`: apertura para lectura (por defecto, puede omitirse)\n",
    "* `open('fichero.txt','w')`: apertura para escritura, sobreescribiendo lo existente\n",
    "* `open('fichero.txt','a')`: apertura para escritura, añadiendo al final de lo existente\n",
    "* `open('fichero.txt','r+')`: apertura para lectura y escritura"
   ]
  },
  {
   "cell_type": "markdown",
   "metadata": {},
   "source": [
    "Los métodos más usados con fichjeros son `f.read()`, `f.readline()`, `f.write()` y `f.close()`. Veamos algunos ejemplos de uso:"
   ]
  },
  {
   "cell_type": "markdown",
   "metadata": {},
   "source": [
    "Supongamos que tenemos el archivo `fichero.txt` con el siguiente contenido:\n",
    "\n",
    "```\n",
    "Esta es la primera línea\n",
    "Vamos por la segunda\n",
    "La tercera ya llegó\n",
    "Y finalizamos con la cuarta\n",
    "```\n"
   ]
  },
  {
   "cell_type": "markdown",
   "metadata": {},
   "source": [
    "Lectura con `read`:"
   ]
  },
  {
   "cell_type": "code",
   "execution_count": 171,
   "metadata": {},
   "outputs": [
    {
     "data": {
      "text/plain": [
       "'Reescribo la primera línea\\nY también la segunda\\n'"
      ]
     },
     "execution_count": 171,
     "metadata": {},
     "output_type": "execute_result"
    }
   ],
   "source": [
    "f=open(\"fichero.txt\")\n",
    "s=f.read()\n",
    "s"
   ]
  },
  {
   "cell_type": "code",
   "execution_count": null,
   "metadata": {},
   "outputs": [],
   "source": []
  },
  {
   "cell_type": "raw",
   "metadata": {},
   "source": []
  },
  {
   "cell_type": "code",
   "execution_count": 172,
   "metadata": {},
   "outputs": [],
   "source": [
    "f.close()"
   ]
  },
  {
   "cell_type": "markdown",
   "metadata": {},
   "source": [
    "Una vez procesado un fichero, hay que cerrarlo con `close`. Sin embargo es posible usar el bloque `with`para efectuar una serie de operaciones con un fichero y cerrarlo implicitamente al terminar:"
   ]
  },
  {
   "cell_type": "code",
   "execution_count": 173,
   "metadata": {},
   "outputs": [
    {
     "data": {
      "text/plain": [
       "'Reescribo la primera línea\\n'"
      ]
     },
     "execution_count": 173,
     "metadata": {},
     "output_type": "execute_result"
    }
   ],
   "source": [
    "with open('fichero.txt') as f: \n",
    "    primera = f.readline()\n",
    "\n",
    "primera"
   ]
  },
  {
   "cell_type": "markdown",
   "metadata": {},
   "source": [
    "Como se ha visto en los ejemplos anteriores, con `read` leemos todo el contenido de un fichero en un string (conteniendo incluso los saltos de línea, carácter `\\n`). Con `readln` leemos de línea en línea, secuancialmente:"
   ]
  },
  {
   "cell_type": "code",
   "execution_count": 174,
   "metadata": {},
   "outputs": [
    {
     "data": {
      "text/plain": [
       "'Reescribo la primera línea\\n'"
      ]
     },
     "execution_count": 174,
     "metadata": {},
     "output_type": "execute_result"
    }
   ],
   "source": [
    "f=open(\"fichero.txt\")\n",
    "s1=f.readline()\n",
    "s1"
   ]
  },
  {
   "cell_type": "code",
   "execution_count": 175,
   "metadata": {},
   "outputs": [
    {
     "data": {
      "text/plain": [
       "'Y también la segunda\\n'"
      ]
     },
     "execution_count": 175,
     "metadata": {},
     "output_type": "execute_result"
    }
   ],
   "source": [
    "s2=f.readline()\n",
    "s2"
   ]
  },
  {
   "cell_type": "code",
   "execution_count": 176,
   "metadata": {},
   "outputs": [
    {
     "data": {
      "text/plain": [
       "''"
      ]
     },
     "execution_count": 176,
     "metadata": {},
     "output_type": "execute_result"
    }
   ],
   "source": [
    "s3=f.readline()\n",
    "s3"
   ]
  },
  {
   "cell_type": "code",
   "execution_count": 177,
   "metadata": {},
   "outputs": [
    {
     "data": {
      "text/plain": [
       "''"
      ]
     },
     "execution_count": 177,
     "metadata": {},
     "output_type": "execute_result"
    }
   ],
   "source": [
    "s4=f.readline()\n",
    "s4"
   ]
  },
  {
   "cell_type": "code",
   "execution_count": 178,
   "metadata": {},
   "outputs": [],
   "source": [
    "f.close()"
   ]
  },
  {
   "cell_type": "markdown",
   "metadata": {},
   "source": [
    "Otro aspecto intersante en el procesamiento de ficheros es que sirven directamente como iterables (sobre sus distintas líneas):"
   ]
  },
  {
   "cell_type": "code",
   "execution_count": 179,
   "metadata": {},
   "outputs": [
    {
     "name": "stdout",
     "output_type": "stream",
     "text": [
      "Reescribo la primera línea\n",
      "Y también la segunda\n"
     ]
    }
   ],
   "source": [
    "for line in open(\"fichero.txt\"): \n",
    "    print(line, end='')"
   ]
  },
  {
   "cell_type": "markdown",
   "metadata": {},
   "source": [
    "Podemos escribir al final del archivo con el modo `'a'`"
   ]
  },
  {
   "cell_type": "code",
   "execution_count": 180,
   "metadata": {},
   "outputs": [],
   "source": [
    "with open('fichero.txt','a') as f: \n",
    "    f.write(\"La quinta la escribo yo\\n\")"
   ]
  },
  {
   "cell_type": "markdown",
   "metadata": {},
   "source": [
    "Ahora el archivo `fichero.txt` contendrá:\n",
    "\n",
    "```\n",
    "Esta es la primera línea\n",
    "Vamos por la segunda\n",
    "La tercera ya llegó\n",
    "Y finalizamos con la cuarta\n",
    "La quinta la escribo yo\n",
    "```"
   ]
  },
  {
   "cell_type": "markdown",
   "metadata": {},
   "source": [
    "Sin embargo, si se escribe en un fichero que se ha abierto con el modo `'w'`, se reescribe desde cero:"
   ]
  },
  {
   "cell_type": "code",
   "execution_count": 181,
   "metadata": {},
   "outputs": [],
   "source": [
    "f=open(\"fichero.txt\",\"w\")\n",
    "f.write(\"Reescribo la primera línea\\n\")\n",
    "f.write(\"Y también la segunda\\n\")\n",
    "f.close()"
   ]
  },
  {
   "cell_type": "markdown",
   "metadata": {},
   "source": [
    "Ahora el contenido de `fichero.txt`sería el siguiente:\n",
    "\n",
    "```\n",
    "Reescribo la primera línea\n",
    "Y también la segunda\n",
    "```"
   ]
  },
  {
   "cell_type": "markdown",
   "metadata": {},
   "source": [
    "### 15. Módulos"
   ]
  },
  {
   "cell_type": "markdown",
   "metadata": {},
   "source": [
    "Un módulo es un archivo con definiciones (de funciones, clases, variables, etc..) en Python.  "
   ]
  },
  {
   "cell_type": "markdown",
   "metadata": {},
   "source": [
    "Por ejemplo, podemos crear un fichero de nombre `operaciones.py` con el siguiente contenido:\n",
    "\n",
    "```python\n",
    "def suma(x,y): return x+y\n",
    "def resta(x,y): return x-y\n",
    "def multiplicacion(x,y): return x*y\n",
    "def division(x,y): return x/y\n",
    "```\n",
    "\n",
    "Para cargar todo el módulo y por tanto poder usar todo lo que ese módulo define, lo *importamos* con `import`:"
   ]
  },
  {
   "cell_type": "code",
   "execution_count": 182,
   "metadata": {},
   "outputs": [],
   "source": [
    "import operaciones"
   ]
  },
  {
   "cell_type": "markdown",
   "metadata": {},
   "source": [
    "Ahora, si queremos usar las definciones del módulo, no podemos usar directamente el nombre, sino que debemos escribir el nombre del módulo, un punto y el nombre correspondiente. Por ejemplo:"
   ]
  },
  {
   "cell_type": "code",
   "execution_count": 183,
   "metadata": {},
   "outputs": [],
   "source": [
    "# suma(2,3)\n",
    "\n",
    "# ---------------------------------------------------------------------------\n",
    "# NameError                                 Traceback (most recent call last)\n",
    "# <ipython-input-9-d2887d1eef0e> in <module>\n",
    "# ----> 1 suma(2,3)\n",
    "\n",
    "# NameError: name 'suma' is not defined\n"
   ]
  },
  {
   "cell_type": "code",
   "execution_count": 184,
   "metadata": {},
   "outputs": [
    {
     "data": {
      "text/plain": [
       "5"
      ]
     },
     "execution_count": 184,
     "metadata": {},
     "output_type": "execute_result"
    }
   ],
   "source": [
    "operaciones.suma(2,3)"
   ]
  },
  {
   "cell_type": "code",
   "execution_count": 185,
   "metadata": {},
   "outputs": [
    {
     "data": {
      "text/plain": [
       "1.6"
      ]
     },
     "execution_count": 185,
     "metadata": {},
     "output_type": "execute_result"
    }
   ],
   "source": [
    "operaciones.division(8,5)"
   ]
  },
  {
   "cell_type": "markdown",
   "metadata": {},
   "source": [
    "Python viene por defecto (_batteries_ _included_) con una serie de módulos (_Python_ _standard_ _library_) que cuando se importan proporcionan una serie de funcionalidades extras muy interesantes:\n",
    "* Interacción con el sistema operativo, medidas de eficiencia\n",
    "* Comodines para los nombres de ficheros, compresión de datos\n",
    "* Argumentos a travñes de línea de comandos, manejos de fecha y hora\n",
    "* Manejos de errores, de cadenas, control de calidad\n",
    "* Operaciones matemáticas\n",
    "* Programación en Internet, XML\n",
    "\n",
    "Es aconsejable echar un vistazo a https://docs.python.org/3/library/"
   ]
  },
  {
   "cell_type": "code",
   "execution_count": null,
   "metadata": {},
   "outputs": [],
   "source": []
  }
 ],
 "metadata": {
  "kernelspec": {
   "display_name": "Python 3",
   "language": "python",
   "name": "python3"
  },
  "language_info": {
   "codemirror_mode": {
    "name": "ipython",
    "version": 3
   },
   "file_extension": ".py",
   "mimetype": "text/x-python",
   "name": "python",
   "nbconvert_exporter": "python",
   "pygments_lexer": "ipython3",
   "version": "3.8.5"
  }
 },
 "nbformat": 4,
 "nbformat_minor": 2
}
