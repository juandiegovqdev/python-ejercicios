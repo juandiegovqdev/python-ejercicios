{
 "cells": [
  {
   "cell_type": "markdown",
   "metadata": {},
   "source": [
    "# Ejercicio 1 - Inteligencia Artificial\n",
    "\n",
    "### Grado Ingeniería Informática Tecnologías Informáticas - Curso 2020-21\n",
    "\n",
    "### Problema del viajante - Resolución por fuerza bruta\n",
    "\n",
    "José Luis Ruiz Reina - 6 de octubre 2020"
   ]
  },
  {
   "cell_type": "markdown",
   "metadata": {},
   "source": [
    "El objetivo de este ejercicio preliminar es constatar la dificultad de resolver el problema del viajante por fuerza bruta cuando aumenta el número de ciudades."
   ]
  },
  {
   "cell_type": "code",
   "execution_count": 6,
   "metadata": {},
   "outputs": [],
   "source": [
    "import random, time, math\n",
    "from itertools import permutations"
   ]
  },
  {
   "cell_type": "markdown",
   "metadata": {},
   "source": [
    "Se pide definir una clase Viajante_n, que sirva para definir un problema del viajante generado aleatoriamente con n ciudades. El constructor de la clase recibe un valor $n$ que indicará el número de ciudades y un parámetro $escala$. Las coordenadas $x$ e $y$ de cada ciudad se tomaran aleatoriamente en el rango $[-escala,+escala]$.\n",
    "\n",
    "En concreto, un objeto de esta clase debe tener:\n",
    "\n",
    "* Un atributo `ciudades` con la lista de las ciudades (los números de $1$ a $n$).\n",
    "\n",
    "* Un atributo `coordenadas` que contiene un diccionario cuyas claves son las ciudades (números de $1$ a $n$) y el valor asociado a cada clave es un par $(x,y)$ de coordenadas generado aleatoriamente. \n",
    "\n",
    "* Un método `distancia_circuito` que recibe un lista de ciudades representando un circuito (es decir, un viaje en el que desde cada ciudad se va a la siguiente en la lista, y desde la última a la primera), y devuelve la distancia total recorrida en ese circuito.  \n",
    "\n"
   ]
  },
  {
   "cell_type": "code",
   "execution_count": 7,
   "metadata": {},
   "outputs": [],
   "source": [
    "# Completa el siguiente código\n",
    "\n",
    "# class Viajante_n():\n",
    "#    \n",
    "#    def __init__(self,n,escala):\n",
    "#        ......\n",
    "#        \n",
    "#        \n",
    "#        \n",
    "#    def distancia_circuito(self,lc): # lc lista de ciudades (la primera despues de la última)\n",
    "#        ........ \n"
   ]
  },
  {
   "cell_type": "code",
   "execution_count": 8,
   "metadata": {},
   "outputs": [],
   "source": [
    "# Algunos ejemplos (tener en cuenta que hay una componente aleatoria y \n",
    "#  no tiene por qué salir siempre lo mismo): \n",
    "\n",
    "\n",
    "# pv5=Viajante_n(5,3)\n",
    "# print(\"Ciudades pv5: {}\".format(pv5.ciudades))\n",
    "# print(\"Coordenadas pv5: {}\".format(pv5.coordenadas))      \n",
    "# circuito5=[3,1,4,5,2]\n",
    "# print(\"Distancia recorrida circuito {}: {}\".format(circuito5, pv5.distancia_circuito(circuito5)))\n",
    "\n",
    "# Resultado:\n",
    "\n",
    "\n",
    "# Ciudades pv5: [1, 2, 3, 4, 5]\n",
    "# Coordenadas pv5: {1: (0.9933341119772914, -1.3142527442924534), 2: (-2.534978816160301, -0.4348823719914323), 3: (2.9237711389309746, 2.5503047663212124), 4: (-2.3038610315148067, 0.2863670972692458), 5: (-2.6807503499258694, 2.66066145309415)}\n",
    "# Distancia recorrida circuito [3, 1, 4, 5, 2]: 19.70972943031935\n",
    "\n",
    "\n",
    "\n",
    "# ------------------------------------------\n",
    "\n",
    "\n",
    "# pv7=Viajante_n(7,6)\n",
    "# print(\"Ciudades pv7: {}\".format(pv7.ciudades))\n",
    "# print(\"Coordenadas pv7: {}\".format(pv7.coordenadas))      \n",
    "# circuito7=[6,1,7,2,4,3,5]\n",
    "# print(\"Distancia recorrida circuito {}: {}\".format(circuito7, pv7.distancia_circuito(circuito7)))\n",
    "\n",
    "\n",
    "\n",
    "# Resultado:\n",
    "\n",
    "# Ciudades pv7: [1, 2, 3, 4, 5, 6, 7]\n",
    "# Coordenadas pv7: {1: (-4.101506952514783, 2.8132013889243552), 2: (5.850710983895281, 5.122936570240684), 3: (-0.5878950106358758, -1.5103890561568427), 4: (2.906093090298592, 5.110176944095176), 5: (5.58644208048911, 1.2848246079736683), 6: (1.1422345987613527, -5.370749751267727), 7: (4.769985114498658, 5.249400227724447)}\n",
    "# Distancia recorrida circuito [6, 1, 7, 2, 4, 3, 5]: 45.218967297846184\n"
   ]
  },
  {
   "cell_type": "markdown",
   "metadata": {},
   "source": [
    "Piensa ahora en un método \"sencillo\" para resolver el problema del viajante y trata de implementarlo mediante una función `optimización_viajante(pv)`. La función debe devolver el mejor circuito y la distancia del mismo. \n",
    "\n",
    "Aplícalo para resolver distintas instancias de problemas del viajante (generadas como objetos de la clase anterior) y ve aumentando el número de ciudades para ver cómo se comporta tu método. Saca tus propias conclusiones.  \n",
    "\n",
    "Nota: para definir la función puede ser útil usar la función `permutations` del módulo `itertools` que se ha importado más arriba. "
   ]
  },
  {
   "cell_type": "code",
   "execution_count": 9,
   "metadata": {},
   "outputs": [],
   "source": [
    "# Algunos ejemplos:\n",
    "\n",
    "# optimización_viajante(pv5):\n",
    "\n",
    "# Resultado: ((1, 2, 4, 5, 3), 16.723133150725506)\n",
    "\n",
    "\n",
    "# optimización_viajante(pv7):\n",
    "\n",
    "# Resultado:  ((1, 3, 6, 5, 2, 7, 4), 31.983405737842844)\n"
   ]
  },
  {
   "cell_type": "code",
   "execution_count": null,
   "metadata": {},
   "outputs": [],
   "source": []
  }
 ],
 "metadata": {
  "kernelspec": {
   "display_name": "Python 3",
   "language": "python",
   "name": "python3"
  },
  "language_info": {
   "codemirror_mode": {
    "name": "ipython",
    "version": 3
   },
   "file_extension": ".py",
   "mimetype": "text/x-python",
   "name": "python",
   "nbconvert_exporter": "python",
   "pygments_lexer": "ipython3",
   "version": "3.7.3"
  }
 },
 "nbformat": 4,
 "nbformat_minor": 2
}
