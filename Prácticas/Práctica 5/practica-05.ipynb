{
 "cells": [
  {
   "cell_type": "markdown",
   "metadata": {},
   "source": [
    "# Práctica 5 - Inteligencia Artificial\n",
    "\n",
    "### Grado Ingeniería Informática Tecnologías Informáticas - Curso 2019-20\n",
    "\n",
    "### Inferencia probabilística en redes bayesianas\n",
    "\n",
    "José Luis Ruíz Reina y Miguel A. Gutiérrez Naranjo"
   ]
  },
  {
   "cell_type": "markdown",
   "metadata": {},
   "source": [
    "En esta práctica vamos a implementar métodos de inferencia probabilística en redes bayesianas, usando técnicas de muestreo. \n"
   ]
  },
  {
   "cell_type": "code",
   "execution_count": null,
   "metadata": {},
   "outputs": [],
   "source": [
    "import random as rd"
   ]
  },
  {
   "cell_type": "markdown",
   "metadata": {},
   "source": [
    "## Parte I: Estructura de datos para representar redes bayesianas. "
   ]
  },
  {
   "cell_type": "markdown",
   "metadata": {},
   "source": [
    "Vamos a usar una estructura de datos prefijada, para representar redes bayesianas. Por ejemplo, la siguiente variable red_alarma contiene la representación de la red bayesiana del ejemplo de la alarma visto en clase"
   ]
  },
  {
   "cell_type": "markdown",
   "metadata": {},
   "source": [
    "En general, una red bayesiana se representará mediante una lista de tres elementos. Cada uno de estos elementos representará:\n",
    "\n",
    "* Las variables aleatorias y sus posibles valores: un diccionario que asocia que asocia cada nombre de variable con una lista de sus posible valores. \n",
    "* Los padres de cada variable en la red: un diccionario que asocia a cada nombre de variable con una lista de sus padres. \n",
    "* Las tablas de probabilidad de cada nodo: un diccionario que asocia a cada nombre de variable su tabla de probabilidad. \n",
    "\n",
    "A su vez, la tabla asociada a cada variable X es un diccionario que asocia a cada combinación de valores de los padres, la distribución de probabilidad de X dada esa combinación de valores. \n",
    "\n",
    "Por ejemplo, si en la tabla de \"alarma\" hay una correspondencia (True,False):[0.94,0.06], quiere decir que: P(alarma=True|Robo=True,Terremoto=False)=0.94, y que P(alarma=False|Robo=True,Terremoto=False)=0.06.\n",
    "\n",
    "Nótese que el orden implícito de los valores de una variable, y de sus padres, es el que está definido en los correspondientes diccionarios. "
   ]
  },
  {
   "cell_type": "code",
   "execution_count": null,
   "metadata": {},
   "outputs": [],
   "source": [
    "red_alarma=[{\"robo\":[True,False],\n",
    "             \"terremoto\":[True,False],\n",
    "             \"alarma\":[True,False],\n",
    "             \"juanllama\":[True,False],\n",
    "             \"mariallama\":[True,False]},\n",
    "             \n",
    "             {\"robo\":[],\n",
    "              \"terremoto\":[],\n",
    "              \"alarma\":[\"robo\",\"terremoto\"],\n",
    "              \"juanllama\":[\"alarma\"],\n",
    "              \"mariallama\":[\"alarma\"]},\n",
    "              \n",
    "             {\"robo\":{():[0.001,0.999]},\n",
    "              \"terremoto\":{():[0.002,0.998]},\n",
    "              \"alarma\":{(True,True):[0.95,0.05],\n",
    "                        (True,False):[0.94,0.06],\n",
    "                        (False,True):[0.29,0.71],\n",
    "                        (False,False):[0.001,0.999]},\n",
    "              \"juanllama\":{(True,):[0.9,0.1],\n",
    "                           (False,):[0.05,0.95]},\n",
    "              \"mariallama\":{(True,):[0.7,0.3],\n",
    "                            (False,):[0.01,0.99]}}]"
   ]
  },
  {
   "cell_type": "markdown",
   "metadata": {},
   "source": [
    "Lo que sigue son otras dos redes que también se han mostrado en clase de teoría: "
   ]
  },
  {
   "cell_type": "code",
   "execution_count": null,
   "metadata": {},
   "outputs": [],
   "source": [
    "red_infarto=[{\"deportista\":[True,False],\n",
    "              \"alimentación_equilibrada\":[True,False],\n",
    "              \"hipertenso\":[True,False],\n",
    "              \"fumador\":[True,False],\n",
    "              \"infarto\":[True,False]},\n",
    "              \n",
    "              {\"deportista\":[],\n",
    "               \"alimentación_equilibrada\":[],\n",
    "               \"hipertenso\":[\"deportista\",\"alimentación_equilibrada\"],\n",
    "               \"fumador\":[],\n",
    "               \"infarto\":[\"hipertenso\",\"fumador\"]},\n",
    "               \n",
    "               {\"deportista\":{():[0.1,0.9]},\n",
    "                \"alimentación_equilibrada\":{():[0.4,0.6]},\n",
    "                \"hipertenso\":{(True,True):[0.01,0.99],\n",
    "                              (True,False):[0.25,0.75],\n",
    "                              (False,True):[0.2,0.8],\n",
    "                              (False,False):[0.7,0.3]},\n",
    "                \"fumador\":{():[0.4,0.6]},\n",
    "                \"infarto\":{(True,True):[0.8,0.2],\n",
    "                           (True,False):[0.7,0.3],\n",
    "                           (False,True):[0.6,0.4],\n",
    "                           (False,False):[0.3,0.7]}}]\n",
    "\n",
    "red_aspersor=[{\"hierba mojada\":[True,False],\n",
    "               \"lluvia\":[True,False],\n",
    "               \"nublado\":[True,False],\n",
    "               \"aspersor\":[True,False]},\n",
    "\n",
    "               {\"nublado\":[],\n",
    "               \"aspersor\":[\"nublado\"],\n",
    "               \"lluvia\":[\"nublado\"],\n",
    "               \"hierba mojada\":[\"aspersor\",\"lluvia\"]},\n",
    "\n",
    "               {\"nublado\":{():[0.5,0.5]},\n",
    "                \"aspersor\":{(True,):[0.1,0.9],\n",
    "                            (False,):[0.5,0.5]},\n",
    "                \"lluvia\":{(True,):[0.8,0.2],\n",
    "                          (False,):[0.2,0.8]},\n",
    "                \"hierba mojada\":{(True,True):[0.99,0.01],\n",
    "                                 (True,False):[0.9,0.1],\n",
    "                                 (False,True):[0.9,0.1],\n",
    "                                 (False,False):[0.0,1.0]}}]\n"
   ]
  },
  {
   "cell_type": "markdown",
   "metadata": {},
   "source": [
    "## Parte II: Funciones auxiliares"
   ]
  },
  {
   "cell_type": "markdown",
   "metadata": {},
   "source": [
    "### Ejercicio 1"
   ]
  },
  {
   "cell_type": "markdown",
   "metadata": {},
   "source": [
    "Definir una función \"orden_compatible(red)\", que recibiendo una red bayesiana, devuelva una ordenación topológica del grafo de la red. Es decir, una secuencia (una lista) de todas las variables de la red, cumpliendo que para toda variable X que sea padre de otra variable Y en la red, X va antes que Y en la secuencia."
   ]
  },
  {
   "cell_type": "code",
   "execution_count": null,
   "metadata": {},
   "outputs": [],
   "source": [
    "# Solución:\n"
   ]
  },
  {
   "cell_type": "markdown",
   "metadata": {},
   "source": [
    "Puedes probar con los siguientes ejemplos"
   ]
  },
  {
   "cell_type": "code",
   "execution_count": null,
   "metadata": {},
   "outputs": [],
   "source": [
    "orden_compatible(red_alarma)\n",
    "# Salida esperada (hay otras posibilidades)\n",
    "# ['terremoto', 'robo', 'alarma', 'mariallama', 'juanllama']"
   ]
  },
  {
   "cell_type": "code",
   "execution_count": null,
   "metadata": {},
   "outputs": [],
   "source": [
    "orden_compatible(red_infarto)\n",
    "# Salida esperada (hay otras posibilidades)\n",
    "# ['fumador', 'alimentación_equilibrada', 'deportista', 'hipertenso', 'infarto']"
   ]
  },
  {
   "cell_type": "code",
   "execution_count": null,
   "metadata": {},
   "outputs": [],
   "source": [
    "orden_compatible(red_aspersor)\n",
    "# Salida esperada (hay otras posibilidades)\n",
    "# ['nublado', 'lluvia', 'aspersor', 'hierba mojada']"
   ]
  },
  {
   "cell_type": "markdown",
   "metadata": {},
   "source": [
    "### Ejercicio 2"
   ]
  },
  {
   "cell_type": "markdown",
   "metadata": {},
   "source": [
    "Definir una función \"muestreo(valores,distr)\" que recibiendo como entrada una lista de n valores de una variable aleatoria y una distribución de probabilidad (una lista de n probabilidades), devuelve aleatoriamente uno de los valores de la lista. La probabilidad de generar cada uno de los valores debe ser la correspondiente probabilidad en la distribución. "
   ]
  },
  {
   "cell_type": "code",
   "execution_count": null,
   "metadata": {},
   "outputs": [],
   "source": [
    "# Solución:\n"
   ]
  },
  {
   "cell_type": "markdown",
   "metadata": {},
   "source": [
    "Ejemplos (téngase en cuenta que son valores aleatorios, por lo que los resultados no siempre son éstos):"
   ]
  },
  {
   "cell_type": "code",
   "execution_count": null,
   "metadata": {},
   "outputs": [],
   "source": [
    "muestreo([\"v1\",\"v2\",\"v3\"],[0.1,0.8,0.1])\n",
    "# Salida: 'v2'"
   ]
  },
  {
   "cell_type": "code",
   "execution_count": null,
   "metadata": {},
   "outputs": [],
   "source": [
    " muestreo([\"v1\",\"v2\",\"v3\"],[0.1,0.8,0.1])\n",
    "# Salida 'v1'"
   ]
  },
  {
   "cell_type": "markdown",
   "metadata": {},
   "source": [
    "Una vez definida la función, comprobar con un número grande de muestreos que efectivamente son sucesos aleatorios con la probabilidad pretendida. Para comprobar el comportamiento de muestreo, podríamos hacer algo así (téngase en cuenta que los resultados son aleatorios):"
   ]
  },
  {
   "cell_type": "code",
   "execution_count": null,
   "metadata": {},
   "outputs": [],
   "source": [
    "sum(muestreo([\"v1\",\"v2\",\"v3\"],[0.1,0.8,0.1])==\"v1\" for _ in range(1000000))/1000000\n",
    "# Salida (aprox.): 0.099943"
   ]
  },
  {
   "cell_type": "code",
   "execution_count": null,
   "metadata": {},
   "outputs": [],
   "source": [
    "sum(muestreo([\"v1\",\"v2\",\"v3\"],[0.1,0.8,0.1])==\"v2\" for _ in range(1000000))/1000000\n",
    "# Salida (aprox.): 0.800114"
   ]
  },
  {
   "cell_type": "code",
   "execution_count": null,
   "metadata": {},
   "outputs": [],
   "source": [
    "sum(muestreo([\"v1\",\"v2\",\"v3\"],[0.1,0.8,0.1])==\"v3\" for _ in range(1000000))/1000000\n",
    "# Salida (aprox.): 0.099941"
   ]
  },
  {
   "cell_type": "markdown",
   "metadata": {},
   "source": [
    "### Ejercicio 3"
   ]
  },
  {
   "cell_type": "markdown",
   "metadata": {},
   "source": [
    "Definir la función \"muestreo_a_priori(red)\", que obtiene un evento aleatorio completo, siguiendo la distribución que define una red bayesiana que recibe como entrada (transparencias del tema de teoría)"
   ]
  },
  {
   "cell_type": "code",
   "execution_count": null,
   "metadata": {},
   "outputs": [],
   "source": [
    "# Solución:\n"
   ]
  },
  {
   "cell_type": "markdown",
   "metadata": {},
   "source": [
    "Ejemplos (téngase en cuenta que son resultados aleatorios):"
   ]
  },
  {
   "cell_type": "code",
   "execution_count": null,
   "metadata": {},
   "outputs": [],
   "source": [
    "muestreo_a_priori(red_alarma)\n",
    "# Salida:\n",
    "# {'terremoto': False,'robo': False, 'alarma': False, 'mariallama': False,'juanllama': False}"
   ]
  },
  {
   "cell_type": "code",
   "execution_count": null,
   "metadata": {},
   "outputs": [],
   "source": [
    "muestreo_a_priori(red_aspersor)\n",
    "# Salida:\n",
    "# {'nublado': False, 'lluvia': False, 'aspersor': True, 'hierba mojada': True}"
   ]
  },
  {
   "cell_type": "code",
   "execution_count": null,
   "metadata": {},
   "outputs": [],
   "source": [
    "muestreo_a_priori(red_infarto)\n",
    "# Salida:\n",
    "# {'fumador': True, 'alimentación_equilibrada': True, 'deportista': False, 'hipertenso': True, 'infarto': True}"
   ]
  },
  {
   "cell_type": "markdown",
   "metadata": {},
   "source": [
    "La siguiente función \"normaliza(d)\" normaliza una distribución de probabilidades, que viene dada mediante un diccionario d:"
   ]
  },
  {
   "cell_type": "code",
   "execution_count": null,
   "metadata": {},
   "outputs": [],
   "source": [
    "def normaliza(d):\n",
    "    suma=sum(d.values())\n",
    "    return {var:d[var]/suma for var in d}"
   ]
  },
  {
   "cell_type": "markdown",
   "metadata": {},
   "source": [
    "Ejemplos:"
   ]
  },
  {
   "cell_type": "code",
   "execution_count": null,
   "metadata": {},
   "outputs": [],
   "source": [
    "normaliza({\"v1\":0.21,\"v2\":0.11,\"v3\":0.37})\n",
    "# Salida:\n",
    "# {'v1': 0.30434782608695654,\n",
    "#  'v2': 0.15942028985507248,\n",
    "#  'v3': 0.5362318840579711}"
   ]
  },
  {
   "cell_type": "code",
   "execution_count": null,
   "metadata": {},
   "outputs": [],
   "source": [
    "normaliza({True:0.012,False:0.008})\n",
    "# Salida:\n",
    "# {True: 0.6, False: 0.4}"
   ]
  },
  {
   "cell_type": "markdown",
   "metadata": {},
   "source": [
    "##  Parte III:Inferencia por muestreo"
   ]
  },
  {
   "cell_type": "markdown",
   "metadata": {},
   "source": [
    "### Ejercicio 4"
   ]
  },
  {
   "cell_type": "markdown",
   "metadata": {},
   "source": [
    "Definir la función \"muestreo_con_rechazo(var,observado,red,N)\", que hace un cálculo aproximado de la probabilidad P(var|observado), respecto de una red bayesiana dada, usando el método de muestreo con rechazo (transparencias ver del tema 7). El número N indica el número de muestreos que ha de realizar."
   ]
  },
  {
   "cell_type": "code",
   "execution_count": null,
   "metadata": {},
   "outputs": [],
   "source": [
    "# Solución:\n",
    "\n"
   ]
  },
  {
   "cell_type": "markdown",
   "metadata": {},
   "source": [
    "Experimentar con distintas probabilidades cuya respuesta exacta se conozca, para comprobar la calidad de la aproximación que el algoritmo realiza. Usar varios valores de N para comprobar cómo un mayor número de muestreos mejora la aproximación. "
   ]
  },
  {
   "cell_type": "markdown",
   "metadata": {},
   "source": [
    "Ejemplos:"
   ]
  },
  {
   "cell_type": "code",
   "execution_count": null,
   "metadata": {},
   "outputs": [],
   "source": [
    "muestreo_con_rechazo(\"robo\",{\"juanllama\":True,\"mariallama\":True},red_alarma,100000)\n",
    "# Salida: {True: 0.27601809954751133, False: 0.7239819004524887}\n",
    "# La probabilidad exacta es  {True:0.28417, False:0.71583} "
   ]
  },
  {
   "cell_type": "code",
   "execution_count": null,
   "metadata": {},
   "outputs": [],
   "source": [
    "muestreo_con_rechazo(\"fumador\",{\"infarto\":True,\"deportista\":False},red_infarto,100000)\n",
    "# Salida: {True: 0.4839582453851172, False: 0.5160417546148828}\n",
    "# La probabilidad exacta es {True:0.48, False:0.52}"
   ]
  },
  {
   "cell_type": "markdown",
   "metadata": {},
   "source": [
    "### Experimento 1"
   ]
  },
  {
   "cell_type": "markdown",
   "metadata": {},
   "source": [
    "Con la red de la alarma, aproximando la probabilidad:\n",
    "\n",
    "P(robo|juanllama=True,mariallama=True)\n",
    "\n",
    "Sabemos (ver teoría) que la probabilidad exacta es {True:0.28417,False:0.71583}. Prueba distintos resultados aumentando N"
   ]
  },
  {
   "cell_type": "code",
   "execution_count": null,
   "metadata": {},
   "outputs": [],
   "source": [
    "muestreo_con_rechazo(\"robo\",{\"juanllama\":True,\"mariallama\":True},red_alarma,1000)"
   ]
  },
  {
   "cell_type": "code",
   "execution_count": null,
   "metadata": {},
   "outputs": [],
   "source": [
    "muestreo_con_rechazo(\"robo\",{\"juanllama\":True,\"mariallama\":True},red_alarma,10000)"
   ]
  },
  {
   "cell_type": "code",
   "execution_count": null,
   "metadata": {},
   "outputs": [],
   "source": [
    "muestreo_con_rechazo(\"robo\",{\"juanllama\":True,\"mariallama\":True},red_alarma,100000)"
   ]
  },
  {
   "cell_type": "markdown",
   "metadata": {},
   "source": [
    "### Experimento 2"
   ]
  },
  {
   "cell_type": "markdown",
   "metadata": {},
   "source": [
    "Experimentamos con la red del infarto, aproximando la probabilidad:\n",
    "\n",
    "       P(fumador|infarto=True,deportista=False)\n",
    "\n",
    "Sabemos (ver teoría) que la probabilidad exacta es {True:0.48,False:0.52}. Distintos resultados obtenidos aumentando N:"
   ]
  },
  {
   "cell_type": "code",
   "execution_count": null,
   "metadata": {},
   "outputs": [],
   "source": [
    "muestreo_con_rechazo(\"fumador\",{\"infarto\":True,\"deportista\":False},red_infarto,100)"
   ]
  },
  {
   "cell_type": "code",
   "execution_count": null,
   "metadata": {},
   "outputs": [],
   "source": [
    "muestreo_con_rechazo(\"fumador\",{\"infarto\":True,\"deportista\":False},red_infarto,1000)"
   ]
  },
  {
   "cell_type": "code",
   "execution_count": null,
   "metadata": {},
   "outputs": [],
   "source": [
    "muestreo_con_rechazo(\"fumador\",{\"infarto\":True,\"deportista\":False},red_infarto,10000)"
   ]
  },
  {
   "cell_type": "markdown",
   "metadata": {},
   "source": [
    "### Ejercicio 5"
   ]
  },
  {
   "cell_type": "markdown",
   "metadata": {},
   "source": [
    "El principal problema del algoritmo de muestreo con rechazo es que se pueden generar muchas muestras que se rechazan, cuando éstas no sean compatibles con los valores de las variables observadas.\n",
    "\n",
    "Comprobar esto experimentalmente. Para ello, modificar la función muestreo_con_rechazo del ejercicio anterior, para que además de calcular la probabilidad aproximada, escriba por pantalla el total de muestras que se han rechazado."
   ]
  },
  {
   "cell_type": "code",
   "execution_count": null,
   "metadata": {},
   "outputs": [],
   "source": [
    "# Solución:\n"
   ]
  },
  {
   "cell_type": "markdown",
   "metadata": {},
   "source": [
    "Ejemplos:"
   ]
  },
  {
   "cell_type": "code",
   "execution_count": null,
   "metadata": {},
   "outputs": [],
   "source": [
    "muestreo_con_rechazo_bis(\"robo\",{\"juanllama\":True,\"mariallama\":True},red_alarma,10000)\n",
    "# Salida:\n",
    "# Rechazadas 9983 muestras de un total de 10000\n",
    "# {True: 0.11764705882352941, False: 0.8823529411764706}"
   ]
  },
  {
   "cell_type": "code",
   "execution_count": null,
   "metadata": {},
   "outputs": [],
   "source": [
    "muestreo_con_rechazo_bis(\"robo\",{\"juanllama\":True,\"mariallama\":True},red_alarma,100000)\n",
    "# Salida:\n",
    "# Rechazadas 99805 muestras de un total de 100000\n",
    "# {True: 0.3282051282051282, False: 0.6717948717948717}"
   ]
  },
  {
   "cell_type": "markdown",
   "metadata": {},
   "source": [
    "Para paliar este problema del muestreo con rechazo, se introduce el algoritmo de ponderación por verosimilitud, tal y como se ha visto en la teoría. Se trata de generar directamente muestras compatibles con las observaciones, forzando a que en las variables observadas se tomen los valores observados. Como consecuencia, cada muestra se genera con un \"peso\", que equivale a la probabilidad de que hubiera ocurrido aleatoriamente aquello que se ha forzado.\n",
    "\n",
    "El algoritmo de ponderación por verosimilitud nos permite abordar inferencia aproximada para redes de mayor tamaño. En nuestro caso, lo probaremos con la siguiente red, traducción al castellano de la red \"Car Starting Problem\" del \"applet\" de redes bayesianas de AISpace:"
   ]
  },
  {
   "cell_type": "code",
   "execution_count": null,
   "metadata": {},
   "outputs": [],
   "source": [
    "red_arranque_coche=[{\"Alternador OK\":[True,False],\n",
    "                     \"Sistema de Carga OK\":[True,False],\t\n",
    "                     \"Antigüedad Batería\":[\"nueva\", \"vieja\", \"muy_vieja\"],\t\n",
    "                     \"Voltaje Batería\":[\"fuerte\", \"débil\", \"nada\"],\t\n",
    "                     \"Fusible OK\":[True,False],\n",
    "                     \"Distribuidor OK\":[True,False],\n",
    "                     \"Voltaje en Conexión\":[\"fuerte\", \"débil\", \"nada\"],\n",
    "                     \"Motor de Arranque OK\":[True,False],\n",
    "                     \"Sistema de Arranque OK\":[True,False],\n",
    "                     \"Faros\":[\"brillante\", \"dim\", \"apagado\"],\n",
    "                     \"Bujías\":[\"okay\", \"holgada\", \"anulada\"],\n",
    "                     \"Coche Maniobra\":[True,False],\n",
    "                     \"Tiempo de Encendido\":[\"bien\", \"mal\", \"muy_mal\"],\n",
    "                     \"Sistema Combustible OK\":[True,False],\n",
    "                     \"Filtro de Aire Limpio\":[True,False],\n",
    "                     \"Sistema de Aire OK\":[True,False],\n",
    "                     \"Coche Arranca\":[True,False],\n",
    "                     \"Calidad Bujías\":[\"bien\", \"mal\", \"muy_mal\"],\n",
    "                     \"Bujías Adecuadas\":[True,False]},\n",
    "                     \n",
    "\t\t\t   {\"Alternador OK\":[],\n",
    "\t\t\t   \"Sistema de Carga OK\":[\"Alternador OK\"],\t\n",
    "             \t\t   \"Antigüedad Batería\":[],\t\n",
    "             \t\t   \"Voltaje Batería\":[\"Sistema de Carga OK\", \"Antigüedad Batería\"],\t\n",
    "             \t\t   \"Fusible OK\":[],\n",
    "             \t\t   \"Distribuidor OK\":[],\n",
    "             \t\t   \"Voltaje en Conexión\":[\"Voltaje Batería\", \"Fusible OK\", \"Distribuidor OK\"],\n",
    "             \t\t   \"Motor de Arranque OK\":[],\n",
    "             \t\t   \"Sistema de Arranque OK\":[\"Voltaje Batería\", \"Fusible OK\", \"Motor de Arranque OK\"],\n",
    "             \t\t   \"Faros\":[\"Voltaje en Conexión\"],\n",
    "             \t\t   \"Bujías\":[],\n",
    "             \t\t   \"Coche Maniobra\":[\"Sistema de Arranque OK\"],\n",
    "             \t\t   \"Tiempo de Encendido\":[\"Distribuidor OK\"],\n",
    "             \t\t   \"Sistema Combustible OK\":[],\n",
    "             \t\t   \"Filtro de Aire Limpio\":[],\n",
    "             \t\t   \"Sistema de Aire OK\":[\"Filtro de Aire Limpio\"],\n",
    "             \t\t   \"Coche Arranca\":[\"Coche Maniobra\", \"Sistema Combustible OK\", \n",
    "                                        \"Sistema de Aire OK\", \"Bujías Adecuadas\"],\n",
    "             \t\t   \"Calidad Bujías\":[\"Voltaje en Conexión\", \"Bujías\"],\n",
    "             \t\t   \"Bujías Adecuadas\":[\"Tiempo de Encendido\", \"Calidad Bujías\"]},\n",
    "\n",
    "\n",
    "\t\t\t   {\"Alternador OK\":{():[0.9997,0.0003]},\n",
    "\t\t\t   \"Sistema de Carga OK\":{(True,):[0.995, 0.005],\n",
    "                                      (False,):[0.0, 1.0]},\t\n",
    "             \t\t   \"Antigüedad Batería\":{():[0.4, 0.4, 0.2]},\t\n",
    "             \t\t   \"Voltaje Batería\":{(True,\"nueva\"):[0.999, 0.0008, 0.0002],\n",
    "                                          (True,\"vieja\"):[0.99, 0.008, 0.002],\n",
    "                                          (True,\"muy_vieja\"):[0.6, 0.3, 0.1],\t\t      \n",
    "                                          (False,\"nueva\"):[0.8, 0.15, 0.05],\n",
    "                                          (False,\"vieja\"):[0.05, 0.3, 0.65],\n",
    "                                          (False,\"muy_vieja\"):[0.002, 0.1, 0.898]},\t\n",
    "             \t\t   \"Fusible OK\":{():[0.999, 0.001]}, \n",
    "             \t\t   \"Distribuidor OK\":{():[0.99, 0.01]},\n",
    "             \t\t   \"Voltaje en Conexión\":{(\"fuerte\", True, True):[0.98, 0.015, 0.005],\n",
    "                                              (\"fuerte\", True, False):[0.0, 0.0, 1.0],\n",
    "                                              (\"fuerte\", False, True):[0.0, 0.0, 1.0],\n",
    "                                              (\"fuerte\", False, False):[0.0, 0.0, 1.0],\n",
    "                                              (\"débil\", True, True):[0.1, 0.8, 0.1],\n",
    "                                              (\"débil\", True, False):[0.0, 0.0, 1.0],\n",
    "                                              (\"débil\", False, True):[0.0, 0.0, 1.0],\n",
    "                                              (\"débil\", False, False):[0.0, 0.0, 1.0],\n",
    "                                              (\"nada\", True, True):[0.0, 0.0, 1.0],\n",
    "                                              (\"nada\", True, False):[0.0, 0.0, 1.0],\n",
    "                                              (\"nada\", False, True):[0.0, 0.0, 1.0],\n",
    "                                              (\"nada\", False, False):[0.0, 0.0, 1.0]},\n",
    "             \t\t   \"Motor de Arranque OK\":{():[0.992, 0.008]},\n",
    "             \t\t   \"Sistema de Arranque OK\":{(\"fuerte\", True, True):[ 0.998, 0.002],\n",
    "                                                 (\"fuerte\", True, False):[ 0.0, 1.0],\n",
    "                                                 (\"fuerte\", False, True):[ 0.0, 1.0],\n",
    "                                                 (\"fuerte\", False, False):[ 0.0, 1.0],\n",
    "                                                 (\"débil\", True, True):[ 0.72, 0.28],\n",
    "                                                 (\"débil\", True, False):[ 0.0, 1.0],\n",
    "                                                 (\"débil\", False, True):[ 0.0, 1.0],\n",
    "                                                 (\"débil\", False, False):[ 0.0, 1.0],\n",
    "                                                 (\"nada\", True, True):[ 0.0, 1.0],\n",
    "                                                 (\"nada\", True, False):[ 0.0, 1.0],\n",
    "                                                 (\"nada\", False, True):[ 0.0, 1.0],\n",
    "                                                 (\"nada\", False, False):[ 0.0, 1.0]},\n",
    "             \t\t   \"Faros\":{(\"fuerte\",):[0.98, 0.015, 0.005],\n",
    "                                (\"débil\",):[0.05, 0.9, 0.05],\n",
    "                                (\"nada\",):[0.0, 0.0, 1.0]},\n",
    "             \t\t   \"Bujías\":{():[0.99, 0.003, 0.007]},\n",
    "             \t\t   \"Coche Maniobra\":{(True,):[0.98, 0.02],\n",
    "                                         (False,):[0.0, 1.0]},\n",
    "             \t\t   \"Tiempo de Encendido\":{(True,):[0.97, 0.02, 0.01],\n",
    "                                              (False,):[0.2, 0.3, 0.5]},\n",
    "             \t\t   \"Sistema Combustible OK\":{():[0.9, 0.1]},\n",
    "             \t\t   \"Filtro de Aire Limpio\":{():[0.9, 0.1]},\n",
    "             \t\t   \"Sistema de Aire OK\":{(True,):[0.9, 0.1],\n",
    "                                             (False,):[0.3, 0.7]},\n",
    "             \t\t   \"Coche Arranca\":{  (True, True, True, True):[ 1.0, 0.0],\n",
    "                                          (True, True, True, False):[ 0.0, 1.0],\n",
    "                                          (True, True, False, True):[ 0.0, 1.0],\n",
    "                                          (True, True, False, False):[ 0.0, 1.0],\n",
    "                                          (True, False, True, True):[ 0.0, 1.0],\n",
    "                                          (True, False, True, False):[ 0.0, 1.0],\n",
    "                                          (True, False, False, True):[ 0.0, 1.0],\n",
    "                                          (True, False, False, False):[ 0.0, 1.0],\n",
    "                                          (False, True, True, True):[ 0.0, 1.0],\n",
    "                                          (False, True, True, False):[ 0.0, 1.0],\n",
    "                                          (False, True, False, True):[ 0.0, 1.0],\n",
    "                                          (False, True, False, False):[ 0.0, 1.0],\n",
    "                                          (False, False, True, True):[ 0.0, 1.0],\n",
    "                                          (False, False, True, False):[ 0.0, 1.0],\n",
    "                                          (False, False, False, True):[ 0.0, 1.0],\n",
    "                                          (False, False, False, False):[ 0.0, 1.0]},\n",
    "             \t\t   \"Calidad Bujías\":{(\"fuerte\", \"okay\"):[ 1.0, 0.0, 0.0],\n",
    "                                         (\"fuerte\", \"holgada\"):[ 0.0, 1.0, 0.0],\n",
    "                                         (\"fuerte\", \"anulada\"):[ 0.0, 0.0, 1.0],\n",
    "                                         (\"débil\", \"okay\"):[ 0.0, 1.0, 0.0],\n",
    "                                         (\"débil\", \"holgada\"):[ 0.0, 0.5, 0.5],\n",
    "                                         (\"débil\", \"anulada\"):[ 0.0, 0.2, 0.8],\n",
    "                                         (\"nada\", \"okay\"):[ 0.0, 0.0, 1.0],\n",
    "                                         (\"nada\", \"holgada\"):[ 0.0, 0.0, 1.0],\n",
    "                                         (\"nada\", \"anulada\"):[ 0.0, 0.0, 1.0]},\n",
    "             \t\t   \"Bujías Adecuadas\":{(\"bien\", \"bien\"):[ 0.99, 0.01],\n",
    "                                           (\"bien\", \"mal\"):[ 0.5, 0.5],\n",
    "                                           (\"bien\", \"muy_mal\"):[ 0.1, 0.9],\n",
    "                                           (\"mal\", \"bien\"):[ 0.5, 0.5],\n",
    "                                           (\"mal\", \"mal\"):[ 0.05, 0.95],\n",
    "                                           (\"mal\", \"muy_mal\"):[ 0.01, 0.99],\n",
    "                                           (\"muy_mal\", \"bien\"):[ 0.1, 0.9],\n",
    "                                           (\"muy_mal\", \"mal\"):[ 0.01, 0.99],\n",
    "                                           (\"muy_mal\", \"muy_mal\"):[ 0.0, 1.0]}}]\n"
   ]
  },
  {
   "cell_type": "markdown",
   "metadata": {},
   "source": [
    "### Ejercicio 6\n",
    "\n",
    "Definir una función \"ponderacion_por_verosimilitud(var,observado,red,N)\" que implemente un cálculo aproximado de la probabilidad P(var|observado), respecto de una red bayesiana dada, usando el método de ponderación por verosimilitud. El número N indica el número de muestreos que ha de realizar."
   ]
  },
  {
   "cell_type": "code",
   "execution_count": null,
   "metadata": {},
   "outputs": [],
   "source": [
    "# Solución\n"
   ]
  },
  {
   "cell_type": "markdown",
   "metadata": {},
   "source": [
    "Experimentos:"
   ]
  },
  {
   "cell_type": "code",
   "execution_count": null,
   "metadata": {},
   "outputs": [],
   "source": [
    "ponderacion_por_verosimilitud(\"robo\",{\"juanllama\":True,\"mariallama\":True},red_alarma,100000)\n",
    "# la probabilidad exacta es <False:0.71583,True:0.28417>"
   ]
  },
  {
   "cell_type": "code",
   "execution_count": null,
   "metadata": {},
   "outputs": [],
   "source": [
    "ponderacion_por_verosimilitud(\"Sistema Combustible OK\",\n",
    "                                   {\"Antigüedad Batería\":\"vieja\",\n",
    "                                    \"Alternador OK\":True, \n",
    "                                    \"Filtro de Aire Limpio\":False,\n",
    "                                    \"Coche Arranca\":False},\n",
    "                                   red_arranque_coche,1000)\n",
    "# La probabilidda exacta (calculada en el applet AISpace) es <False:0.13227,True:0.86773>"
   ]
  },
  {
   "cell_type": "markdown",
   "metadata": {},
   "source": [
    "Comparamos también con muestreo_con_rechazo, a igualdad de muestras.\n",
    "\n",
    "N=1000"
   ]
  },
  {
   "cell_type": "code",
   "execution_count": null,
   "metadata": {},
   "outputs": [],
   "source": [
    "N = 1000\n",
    "\n",
    "muestreo_con_rechazo(\"Sistema Combustible OK\",\n",
    "                     {\"Antigüedad Batería\":\"vieja\",\n",
    "                      \"Alternador OK\":True, \n",
    "                      \"Filtro de Aire Limpio\":False,\n",
    "                      \"Coche Arranca\":False},red_arranque_coche,N)"
   ]
  },
  {
   "cell_type": "code",
   "execution_count": null,
   "metadata": {},
   "outputs": [],
   "source": [
    "ponderacion_por_verosimilitud(\"Sistema Combustible OK\",\n",
    "                              {\"Antigüedad Batería\":\"vieja\",\"Alternador OK\":True, \n",
    "                               \"Filtro de Aire Limpio\":False,\n",
    "                               \"Coche Arranca\":False},red_arranque_coche,N)"
   ]
  },
  {
   "cell_type": "markdown",
   "metadata": {},
   "source": [
    "*Conclusión:* ponderacion_por_verosimilitud obtiene resultados aceptables con menos iteraciones que muestreo_con_rechazo"
   ]
  }
 ],
 "metadata": {
  "kernelspec": {
   "display_name": "Python 3",
   "language": "python",
   "name": "python3"
  },
  "language_info": {
   "codemirror_mode": {
    "name": "ipython",
    "version": 3
   },
   "file_extension": ".py",
   "mimetype": "text/x-python",
   "name": "python",
   "nbconvert_exporter": "python",
   "pygments_lexer": "ipython3",
   "version": "3.7.3"
  }
 },
 "nbformat": 4,
 "nbformat_minor": 2
}
