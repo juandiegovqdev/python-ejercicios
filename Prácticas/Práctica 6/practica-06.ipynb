{
 "cells": [
  {
   "cell_type": "markdown",
   "metadata": {},
   "source": [
    "# Práctica 6 - Inteligencia Artificial\n",
    "\n",
    "### Grado Ingeniería Informática Tecnologías Informáticas - Curso 2019-20\n",
    "\n",
    "### Clustering de partición estricta: Algoritmo de k-medias\n",
    "\n",
    "Dpto. de C. de la Computación e I.A. (Univ. de Sevilla)"
   ]
  },
  {
   "cell_type": "code",
   "execution_count": null,
   "metadata": {},
   "outputs": [],
   "source": [
    "import math,random "
   ]
  },
  {
   "cell_type": "markdown",
   "metadata": {},
   "source": [
    "Esta práctica tiene dos partes:\n",
    "* En la primera parte vamos a implementar en Python el algoritmo de clustering conocido como de K-medias\n",
    "* En la segunda parte experimentaremos la implementación sobre un conjunto de datos: el conocido como \"iris\", una base de datos en la que cada instancia refleja una serie de medidas sobre la flor de la planta del iris, junto con una clasificación sobre el tipo de flor"
   ]
  },
  {
   "cell_type": "markdown",
   "metadata": {},
   "source": [
    "# Parte I: Implementación de K-medias  "
   ]
  },
  {
   "cell_type": "markdown",
   "metadata": {},
   "source": [
    "El algoritmo de K-medias es un algoritmo de clustering que sirve para clasificar en grupos o clusters una serie de ejemplos (vectores numéricos) que constituyen el conjunto de datos de entrada. Además del conjunto de datos, recibe como entrada el número K de clusters de la clasificación que se pretende hacer.\n",
    "\n",
    "Básicamente, comienza escogiendo K centros y asignando cada elemento a la clase representada por el centro más cercano.  Una vez asignado un cluster a cada ejemplo, la media aritmética de los ejemplos de cada cluster se toma como nuevo centro del cluster. Este proceso de asignación de clusters y de recálculo de los centros se repite hasta que se cumple alguna condición de terminación (estabilización de los centros, por ejemplo).\n",
    "\n",
    "Los siguientes ejercicios tienen como objetivo final la implementación en Python del algoritmo de K-medias. La función distancia será un parámetro de entrada al algoritmo."
   ]
  },
  {
   "cell_type": "markdown",
   "metadata": {},
   "source": [
    "Para hacer pruebas a medida que se van definiendo las funciones, usar el siguiente conjunto de datos, en el que aparecen datos sobre los pesos de una población (en forma de vector unidimensional). Es de suponer que estos datos corresponden a dos grupos (hombres y mujeres), y en principio desconocemos a qué grupo pertenece cada peso. "
   ]
  },
  {
   "cell_type": "code",
   "execution_count": null,
   "metadata": {},
   "outputs": [],
   "source": [
    "pesos_poblacion = [[51.0],[43.0],[62.0],[64.0],[45.0],[42.0],[46.0],[45.0],[45.0],[62.0],[47.0],\n",
    "\t\t\t\t   [52.0],[64.0],[51.0],[65.0],[48.0],[49.0],[46.0],[64.0],[51.0],[52.0],[62.0],\n",
    "\t\t\t\t   [49.0],[48.0],[62.0],[43.0],[40.0],[48.0],[64.0],[51.0],[63.0],[43.0],[65.0],\n",
    "\t\t\t\t   [66.0],[65.0],[46.0],[39.0],[62.0],[64.0],[52.0],[63.0],[64.0],[48.0],[64.0],\n",
    "\t\t\t\t   [48.0],[51.0],[48.0],[64.0],[42.0],[48.0],[41.0]]"
   ]
  },
  {
   "cell_type": "markdown",
   "metadata": {},
   "source": [
    "La distancia entre los datos será simplemente su diferencia en valor absoluto."
   ]
  },
  {
   "cell_type": "code",
   "execution_count": null,
   "metadata": {},
   "outputs": [],
   "source": [
    "def distancia_abs(x,y):\n",
    "    return abs(x[0]-y[0])"
   ]
  },
  {
   "cell_type": "markdown",
   "metadata": {},
   "source": [
    "### Ejercicio 1"
   ]
  },
  {
   "cell_type": "markdown",
   "metadata": {},
   "source": [
    "La asignación de clusters a cada ejemplo durante cada iteración del algoritmo la almacenaremos en una lista (que llamaremos *lista de clasificación\"* cuyos elementos son a su vez listas con dos elementos: cada dato concreto y el número de cluster que tiene asignado.  Para comenzar, definir una función \"clasificacion_inicial_vacia(datos)\" que recibe un conjunto de datos y crea una lista de clasificación, en el que el número de cluster de cada dato está sin definir."
   ]
  },
  {
   "cell_type": "code",
   "execution_count": null,
   "metadata": {},
   "outputs": [],
   "source": [
    "# ====== Solución:\n"
   ]
  },
  {
   "cell_type": "markdown",
   "metadata": {},
   "source": [
    "Ejemplo de uso:"
   ]
  },
  {
   "cell_type": "code",
   "execution_count": null,
   "metadata": {},
   "outputs": [],
   "source": [
    "clasificacion_inicial_vacia(pesos_poblacion)\n",
    "# Salida esperada:\n",
    "# [[[51.0], None], [[43.0], None], [[62.0], None], [[64.0], None], ... ,  [[48.0], None], [[41.0], None]]"
   ]
  },
  {
   "cell_type": "markdown",
   "metadata": {},
   "source": [
    "### Ejercicio 2"
   ]
  },
  {
   "cell_type": "markdown",
   "metadata": {},
   "source": [
    "Los centros que se vayan calculando durante el algoritmo los vamos a almacenar en un lista de K componentes (a la que llamaremos \"lista de centros\"). Para definir los centros iniciales, vamos a elegir aleatoriamente K ejemplos distintos de entre los datos de entrada. Se pide definir una función \"centros_iniciales(ejemplos,num_clusters)\" que recibiendo el conjunto de datos de entrada, y el número total de clusters, genera una lista inicial de centros. Sugerencia: usar la función random.sample"
   ]
  },
  {
   "cell_type": "code",
   "execution_count": null,
   "metadata": {},
   "outputs": [],
   "source": [
    "# ====== Solución:\n"
   ]
  },
  {
   "cell_type": "markdown",
   "metadata": {},
   "source": [
    "Ejemplo de uso"
   ]
  },
  {
   "cell_type": "code",
   "execution_count": null,
   "metadata": {},
   "outputs": [],
   "source": [
    "centros_iniciales(pesos_poblacion,2)\n",
    "# Salida esperada (puede variar, es aleatoria)\n",
    "# [[45.0], [49.0]]"
   ]
  },
  {
   "cell_type": "markdown",
   "metadata": {},
   "source": [
    "### Ejercicio 3"
   ]
  },
  {
   "cell_type": "markdown",
   "metadata": {},
   "source": [
    "Definir una función \"calcula_centro_mas_cercano(dato,centros,distancia)\" que recibiendo como entrada un dato, una lista de centros de cada cluster y una función distancia, devuelve el número de cluster cuyo centro está más cercano al dato (los clusters los numeraremos de 0 a K-1). "
   ]
  },
  {
   "cell_type": "code",
   "execution_count": null,
   "metadata": {},
   "outputs": [],
   "source": [
    "# ======= Solución:\n"
   ]
  },
  {
   "cell_type": "markdown",
   "metadata": {},
   "source": [
    "Ejemplo de uso"
   ]
  },
  {
   "cell_type": "code",
   "execution_count": null,
   "metadata": {},
   "outputs": [],
   "source": [
    "calcula_centro_mas_cercano([41.0],[[39.0],[45.0]],distancia_abs)\n",
    "# Salida:\n",
    "# 0"
   ]
  },
  {
   "cell_type": "code",
   "execution_count": null,
   "metadata": {},
   "outputs": [],
   "source": [
    "calcula_centro_mas_cercano([64.0],[[39.0],[45.0]],distancia_abs)\n",
    "# Salida:\n",
    "# 1"
   ]
  },
  {
   "cell_type": "markdown",
   "metadata": {},
   "source": [
    "### Ejercicio 4"
   ]
  },
  {
   "cell_type": "markdown",
   "metadata": {},
   "source": [
    "Define la función \"asigna_cluster_a_cada_ejemplo(clasif,centros,distancia)\" que recibiendo una lista de clasificación \"clasif\" y una lista de centros \"centros\", actualice clasif de manera que en cada dato, el cluster asignado sea el del centro en \"centros\" más cercano al ejemplo."
   ]
  },
  {
   "cell_type": "code",
   "execution_count": null,
   "metadata": {},
   "outputs": [],
   "source": [
    "# ====== Solución:\n"
   ]
  },
  {
   "cell_type": "markdown",
   "metadata": {},
   "source": [
    "Ejemplo de uso:"
   ]
  },
  {
   "cell_type": "code",
   "execution_count": null,
   "metadata": {},
   "outputs": [],
   "source": [
    "clas=clasificacion_inicial_vacia(pesos_poblacion)\n",
    "centr=[[65.0],[48.0]]\n",
    "asigna_cluster_a_cada_ejemplo(clas,centr,distancia_abs)\n",
    "clas\n",
    "# Salida esperada:\n",
    "# [[[51.0], 1],[[43.0], 1],[[62.0], 0],[[64.0], 0],...]"
   ]
  },
  {
   "cell_type": "markdown",
   "metadata": {},
   "source": [
    "### Ejercicio 5"
   ]
  },
  {
   "cell_type": "markdown",
   "metadata": {},
   "source": [
    "Definir una función \"recalcula_centros(clasif,num_clusters)\" que recibiendo una lista de clasificación y el número total de clusters, devuelve la lista con los nuevos centros calculados como media aritmética de los datos de cada cluster. "
   ]
  },
  {
   "cell_type": "code",
   "execution_count": null,
   "metadata": {},
   "outputs": [],
   "source": [
    "# ====== Solución:\n"
   ]
  },
  {
   "cell_type": "markdown",
   "metadata": {},
   "source": [
    "Ejemplo de uso, tomando \"clas\" con el valor del ejemplo anterior"
   ]
  },
  {
   "cell_type": "code",
   "execution_count": null,
   "metadata": {},
   "outputs": [],
   "source": [
    "recalcula_centros(clas,2)\n",
    "# Salida esperada:\n",
    "# [[63.63157894736842], [46.8125]]"
   ]
  },
  {
   "cell_type": "markdown",
   "metadata": {},
   "source": [
    "### Ejercicio 6"
   ]
  },
  {
   "cell_type": "markdown",
   "metadata": {},
   "source": [
    "Usando las funciones definidas anteriormente, definir la función \"k-medias(k,datos,distancia)\" que implementa la siguiente versión del algoritmo k-medias:"
   ]
  },
  {
   "cell_type": "code",
   "execution_count": null,
   "metadata": {},
   "outputs": [],
   "source": [
    "# -------------------------------------------------------------------\n",
    "# K-MEDIAS(K,DATOS, distancia)\n",
    "\n",
    "# 1. Inicializar c_i (i=1,...,k) (aleatoriamente o con algún criterio\n",
    "#    heurístico) \n",
    "# 2. REPETIR (hasta que los c_i no cambien):\n",
    "#    2.1 PARA j=1,...,N, HACER: \n",
    "#        Calcular el cluster correspondiente a x_j, escogiendo, de entre\n",
    "#        todos los c_i, el c_h tal que distancia(x_j,c_h) sea mínima \n",
    "#    2.2 PARA i=1,...,k HACER:\n",
    "#        Asignar a c_i la media aritmética de los datos asignados al\n",
    "#        cluster i-ésimo      \n",
    "# 3. Devolver c_1,...,c_k y el cluster asignado a cada dato\n",
    "# ---------------------------------------------------------------------"
   ]
  },
  {
   "cell_type": "markdown",
   "metadata": {},
   "source": [
    "El algoritmo debe devolver como salida una tupla con los centros finalmente obtenidos y con la lista de clasificación."
   ]
  },
  {
   "cell_type": "code",
   "execution_count": null,
   "metadata": {},
   "outputs": [],
   "source": [
    "# =========Solución:\n"
   ]
  },
  {
   "cell_type": "markdown",
   "metadata": {},
   "source": [
    "Ejemplo de uso"
   ]
  },
  {
   "cell_type": "code",
   "execution_count": null,
   "metadata": {},
   "outputs": [],
   "source": [
    "k_medias(2,pesos_poblacion,distancia_abs)\n",
    "# Salida esperada:\n",
    "# [[[46.8125], [63.63157894736842]],\n",
    "# [[[51.0], 0],[[43.0], 0],[[62.0], 1],[[64.0], 1],[[45.0], 0],...]"
   ]
  },
  {
   "cell_type": "markdown",
   "metadata": {},
   "source": [
    "# Parte II: experimentación de k-medias sobre \"iris\""
   ]
  },
  {
   "cell_type": "markdown",
   "metadata": {},
   "source": [
    "La siguiente lista \"iris\" contiene uno de los conjuntos de datos más conocido y usado como banco de pruebas en aprendizaje automático. Se trata de una lista con 150 vectores de datos, cada uno de ellos con cuatro medidas numéricas sobre longitud y anchura de sépalo y pétalo de la flor de la planta iris. Cada vector tiene asignado una de las tres posibles clasificaciones: setosa, versicolor o virgínica (que es la quinta componente)."
   ]
  },
  {
   "cell_type": "code",
   "execution_count": null,
   "metadata": {},
   "outputs": [],
   "source": [
    "iris= \\\n",
    "   [[5.1,3.5,1.4,0.2,\"Iris setosa\"],\n",
    "    [4.9,3.0,1.4,0.2,\"Iris setosa\"],\n",
    "    [4.7,3.2,1.3,0.2,\"Iris setosa\"],\n",
    "    [4.6,3.1,1.5,0.2,\"Iris setosa\"],\n",
    "    [5.0,3.6,1.4,0.2,\"Iris setosa\"],\n",
    "    [5.4,3.9,1.7,0.4,\"Iris setosa\"],\n",
    "    [4.6,3.4,1.4,0.3,\"Iris setosa\"],\n",
    "    [5.0,3.4,1.5,0.2,\"Iris setosa\"],\n",
    "    [4.4,2.9,1.4,0.2,\"Iris setosa\"],\n",
    "    [4.9,3.1,1.5,0.1,\"Iris setosa\"],\n",
    "    [5.4,3.7,1.5,0.2,\"Iris setosa\"],\n",
    "    [4.8,3.4,1.6,0.2,\"Iris setosa\"],\n",
    "    [4.8,3.0,1.4,0.1,\"Iris setosa\"],\n",
    "    [4.3,3.0,1.1,0.1,\"Iris setosa\"],\n",
    "    [5.8,4.0,1.2,0.2,\"Iris setosa\"],\n",
    "    [5.7,4.4,1.5,0.4,\"Iris setosa\"],\n",
    "    [5.4,3.9,1.3,0.4,\"Iris setosa\"],\n",
    "    [5.1,3.5,1.4,0.3,\"Iris setosa\"],\n",
    "    [5.7,3.8,1.7,0.3,\"Iris setosa\"],\n",
    "    [5.1,3.8,1.5,0.3,\"Iris setosa\"],\n",
    "    [5.4,3.4,1.7,0.2,\"Iris setosa\"],\n",
    "    [5.1,3.7,1.5,0.4,\"Iris setosa\"],\n",
    "    [4.6,3.6,1.0,0.2,\"Iris setosa\"],\n",
    "    [5.1,3.3,1.7,0.5,\"Iris setosa\"],\n",
    "    [4.8,3.4,1.9,0.2,\"Iris setosa\"],\n",
    "    [5.0,3.0,1.6,0.2,\"Iris setosa\"],\n",
    "    [5.0,3.4,1.6,0.4,\"Iris setosa\"],\n",
    "    [5.2,3.5,1.5,0.2,\"Iris setosa\"],\n",
    "    [5.2,3.4,1.4,0.2,\"Iris setosa\"],\n",
    "    [4.7,3.2,1.6,0.2,\"Iris setosa\"],\n",
    "    [4.8,3.1,1.6,0.2,\"Iris setosa\"],\n",
    "    [5.4,3.4,1.5,0.4,\"Iris setosa\"],\n",
    "    [5.2,4.1,1.5,0.1,\"Iris setosa\"],\n",
    "    [5.5,4.2,1.4,0.2,\"Iris setosa\"],\n",
    "    [4.9,3.1,1.5,0.1,\"Iris setosa\"],\n",
    "    [5.0,3.2,1.2,0.2,\"Iris setosa\"],\n",
    "    [5.5,3.5,1.3,0.2,\"Iris setosa\"],\n",
    "    [4.9,3.1,1.5,0.1,\"Iris setosa\"],\n",
    "    [4.4,3.0,1.3,0.2,\"Iris setosa\"],\n",
    "    [5.1,3.4,1.5,0.2,\"Iris setosa\"],\n",
    "    [5.0,3.5,1.3,0.3,\"Iris setosa\"],\n",
    "    [4.5,2.3,1.3,0.3,\"Iris setosa\"],\n",
    "    [4.4,3.2,1.3,0.2,\"Iris setosa\"],\n",
    "    [5.0,3.5,1.6,0.6,\"Iris setosa\"],\n",
    "    [5.1,3.8,1.9,0.4,\"Iris setosa\"],\n",
    "    [4.8,3.0,1.4,0.3,\"Iris setosa\"],\n",
    "    [5.1,3.8,1.6,0.2,\"Iris setosa\"],\n",
    "    [4.6,3.2,1.4,0.2,\"Iris setosa\"],\n",
    "    [5.3,3.7,1.5,0.2,\"Iris setosa\"],\n",
    "    [5.0,3.3,1.4,0.2,\"Iris setosa\"],\n",
    "    [7.0,3.2,4.7,1.4,\"Iris versicolor\"],\n",
    "    [6.4,3.2,4.5,1.5,\"Iris versicolor\"],\n",
    "    [6.9,3.1,4.9,1.5,\"Iris versicolor\"],\n",
    "    [5.5,2.3,4.0,1.3,\"Iris versicolor\"],\n",
    "    [6.5,2.8,4.6,1.5,\"Iris versicolor\"],\n",
    "    [5.7,2.8,4.5,1.3,\"Iris versicolor\"],\n",
    "    [6.3,3.3,4.7,1.6,\"Iris versicolor\"],\n",
    "    [4.9,2.4,3.3,1.0,\"Iris versicolor\"],\n",
    "    [6.6,2.9,4.6,1.3,\"Iris versicolor\"],\n",
    "    [5.2,2.7,3.9,1.4,\"Iris versicolor\"],\n",
    "    [5.0,2.0,3.5,1.0,\"Iris versicolor\"],\n",
    "    [5.9,3.0,4.2,1.5,\"Iris versicolor\"],\n",
    "    [6.0,2.2,4.0,1.0,\"Iris versicolor\"],\n",
    "    [6.1,2.9,4.7,1.4,\"Iris versicolor\"],\n",
    "    [5.6,2.9,3.6,1.3,\"Iris versicolor\"],\n",
    "    [6.7,3.1,4.4,1.4,\"Iris versicolor\"],\n",
    "    [5.6,3.0,4.5,1.5,\"Iris versicolor\"],\n",
    "    [5.8,2.7,4.1,1.0,\"Iris versicolor\"],\n",
    "    [6.2,2.2,4.5,1.5,\"Iris versicolor\"],\n",
    "    [5.6,2.5,3.9,1.1,\"Iris versicolor\"],\n",
    "    [5.9,3.2,4.8,1.8,\"Iris versicolor\"],\n",
    "    [6.1,2.8,4.0,1.3,\"Iris versicolor\"],\n",
    "    [6.3,2.5,4.9,1.5,\"Iris versicolor\"],\n",
    "    [6.1,2.8,4.7,1.2,\"Iris versicolor\"],\n",
    "    [6.4,2.9,4.3,1.3,\"Iris versicolor\"],\n",
    "    [6.6,3.0,4.4,1.4,\"Iris versicolor\"],\n",
    "    [6.8,2.8,4.8,1.4,\"Iris versicolor\"],\n",
    "    [6.7,3.0,5.0,1.7,\"Iris versicolor\"],\n",
    "    [6.0,2.9,4.5,1.5,\"Iris versicolor\"],\n",
    "    [5.7,2.6,3.5,1.0,\"Iris versicolor\"],\n",
    "    [5.5,2.4,3.8,1.1,\"Iris versicolor\"],\n",
    "    [5.5,2.4,3.7,1.0,\"Iris versicolor\"],\n",
    "    [5.8,2.7,3.9,1.2,\"Iris versicolor\"],\n",
    "    [6.0,2.7,5.1,1.6,\"Iris versicolor\"],\n",
    "    [5.4,3.0,4.5,1.5,\"Iris versicolor\"],\n",
    "    [6.0,3.4,4.5,1.6,\"Iris versicolor\"],\n",
    "    [6.7,3.1,4.7,1.5,\"Iris versicolor\"],\n",
    "    [6.3,2.3,4.4,1.3,\"Iris versicolor\"],\n",
    "    [5.6,3.0,4.1,1.3,\"Iris versicolor\"],\n",
    "    [5.5,2.5,4.0,1.3,\"Iris versicolor\"],\n",
    "    [5.5,2.6,4.4,1.2,\"Iris versicolor\"],\n",
    "    [6.1,3.0,4.6,1.4,\"Iris versicolor\"],\n",
    "    [5.8,2.6,4.0,1.2,\"Iris versicolor\"],\n",
    "    [5.0,2.3,3.3,1.0,\"Iris versicolor\"],\n",
    "    [5.6,2.7,4.2,1.3,\"Iris versicolor\"],\n",
    "    [5.7,3.0,4.2,1.2,\"Iris versicolor\"],\n",
    "    [5.7,2.9,4.2,1.3,\"Iris versicolor\"],\n",
    "    [6.2,2.9,4.3,1.3,\"Iris versicolor\"],\n",
    "    [5.1,2.5,3.0,1.1,\"Iris versicolor\"],\n",
    "    [5.7,2.8,4.1,1.3,\"Iris versicolor\"],\n",
    "    [6.3,3.3,6.0,2.5,\"Iris virgínica\"],\n",
    "    [5.8,2.7,5.1,1.9,\"Iris virgínica\"],\n",
    "    [7.1,3.0,5.9,2.1,\"Iris virgínica\"],\n",
    "    [6.3,2.9,5.6,1.8,\"Iris virgínica\"],\n",
    "    [6.5,3.0,5.8,2.2,\"Iris virgínica\"],\n",
    "    [7.6,3.0,6.6,2.1,\"Iris virgínica\"],\n",
    "    [4.9,2.5,4.5,1.7,\"Iris virgínica\"],\n",
    "    [7.3,2.9,6.3,1.8,\"Iris virgínica\"],\n",
    "    [6.7,2.5,5.8,1.8,\"Iris virgínica\"],\n",
    "    [7.2,3.6,6.1,2.5,\"Iris virgínica\"],\n",
    "    [6.5,3.2,5.1,2.0,\"Iris virgínica\"],\n",
    "    [6.4,2.7,5.3,1.9,\"Iris virgínica\"],\n",
    "    [6.8,3.0,5.5,2.1,\"Iris virgínica\"],\n",
    "    [5.7,2.5,5.0,2.0,\"Iris virgínica\"],\n",
    "    [5.8,2.8,5.1,2.4,\"Iris virgínica\"],\n",
    "    [6.4,3.2,5.3,2.3,\"Iris virgínica\"],\n",
    "    [6.5,3.0,5.5,1.8,\"Iris virgínica\"],\n",
    "    [7.7,3.8,6.7,2.2,\"Iris virgínica\"],\n",
    "    [7.7,2.6,6.9,2.3,\"Iris virgínica\"],\n",
    "    [6.0,2.2,5.0,1.5,\"Iris virgínica\"],\n",
    "    [6.9,3.2,5.7,2.3,\"Iris virgínica\"],\n",
    "    [5.6,2.8,4.9,2.0,\"Iris virgínica\"],\n",
    "    [7.7,2.8,6.7,2.0,\"Iris virgínica\"],\n",
    "    [6.3,2.7,4.9,1.8,\"Iris virgínica\"],\n",
    "    [6.7,3.3,5.7,2.1,\"Iris virgínica\"],\n",
    "    [7.2,3.2,6.0,1.8,\"Iris virgínica\"],\n",
    "    [6.2,2.8,4.8,1.8,\"Iris virgínica\"],\n",
    "    [6.1,3.0,4.9,1.8,\"Iris virgínica\"],\n",
    "    [6.4,2.8,5.6,2.1,\"Iris virgínica\"],\n",
    "    [7.2,3.0,5.8,1.6,\"Iris virgínica\"],\n",
    "    [7.4,2.8,6.1,1.9,\"Iris virgínica\"],\n",
    "    [7.9,3.8,6.4,2.0,\"Iris virgínica\"],\n",
    "    [6.4,2.8,5.6,2.2,\"Iris virgínica\"],\n",
    "    [6.3,2.8,5.1,1.5,\"Iris virgínica\"],\n",
    "    [6.1,2.6,5.6,1.4,\"Iris virgínica\"],\n",
    "    [7.7,3.0,6.1,2.3,\"Iris virgínica\"],\n",
    "    [6.3,3.4,5.6,2.4,\"Iris virgínica\"],\n",
    "    [6.4,3.1,5.5,1.8,\"Iris virgínica\"],\n",
    "    [6.0,3.0,4.8,1.8,\"Iris virgínica\"],\n",
    "    [6.9,3.1,5.4,2.1,\"Iris virgínica\"],\n",
    "    [6.7,3.1,5.6,2.4,\"Iris virgínica\"],\n",
    "    [6.9,3.1,5.1,2.3,\"Iris virgínica\"],\n",
    "    [5.8,2.7,5.1,1.9,\"Iris virgínica\"],\n",
    "    [6.8,3.2,5.9,2.3,\"Iris virgínica\"],\n",
    "    [6.7,3.3,5.7,2.5,\"Iris virgínica\"],\n",
    "    [6.7,3.0,5.2,2.3,\"Iris virgínica\"],\n",
    "    [6.3,2.5,5.0,1.9,\"Iris virgínica\"],\n",
    "    [6.5,3.0,5.2,2.0,\"Iris virgínica\"],\n",
    "    [6.2,3.4,5.4,2.3,\"Iris virgínica\"],\n",
    "    [5.9,3.0,5.1,1.8,\"Iris virgínica\"]]"
   ]
  },
  {
   "cell_type": "markdown",
   "metadata": {},
   "source": [
    "### Ejercicio 7"
   ]
  },
  {
   "cell_type": "markdown",
   "metadata": {},
   "source": [
    "La siguiente función nos permite validar una clasificación cualquiera de los 150 vectores numéricos de la lista iris, comparándola con la clasificación original que aparece en la base de datos.  Para cada una de las tres clasificaciones originales, cuenta cuantos ejemplos hay en cada uno de los clusters asignados en la clasificación que se le pasa como argumento de entrada."
   ]
  },
  {
   "cell_type": "code",
   "execution_count": null,
   "metadata": {},
   "outputs": [],
   "source": [
    "def validacion_iris(clasificacion):\n",
    "    posibles_valores=[\"Iris setosa\", \"Iris versicolor\", \"Iris virgínica\"]\n",
    "    contadores=dict()\n",
    "    for val in posibles_valores:\n",
    "        for x in range(3):\n",
    "            contadores[val,x]=0\n",
    "    for i in range(len(clasificacion)):\n",
    "        contadores[iris[i][4],clasificacion[i][1]]+=1\n",
    "    for val in posibles_valores:\n",
    "        print(val+\"\\n\"+\"==============\\n\")\n",
    "        for x in range(3):\n",
    "            print(\"Cluster \",x,\": \",contadores[val,x])\n",
    "        print(\"\\n\\n\")"
   ]
  },
  {
   "cell_type": "markdown",
   "metadata": {},
   "source": [
    "Se pide:\n",
    "* Obtener, a partir de los datos de iris la lista de vectores numéricos, SIN el tipo de iris.\n",
    "* Aplicar el algoritmo de k-medias a esos datos (con la distancia euclídea)\n",
    "* Validar la clasificación obtenida respecto de la clasificación original"
   ]
  },
  {
   "cell_type": "code",
   "execution_count": null,
   "metadata": {},
   "outputs": [],
   "source": [
    "# ======== Solución:\n"
   ]
  },
  {
   "cell_type": "markdown",
   "metadata": {},
   "source": [
    "Puedes probar con la siguiente sesión:"
   ]
  },
  {
   "cell_type": "code",
   "execution_count": null,
   "metadata": {},
   "outputs": [],
   "source": [
    "iris_sin_clasificar=[x[:-1] for x in iris]\n",
    "iris_k_medias=k_medias(3,iris_sin_clasificar,distancia_euclidea)[1]\n",
    "validacion_iris(iris_k_medias)"
   ]
  },
  {
   "cell_type": "markdown",
   "metadata": {},
   "source": [
    "__Comentarios:__ como se observa, el cluster 0 ha sido reconocido completamente como el cluster original de iris setosa. El cluster 1 casi al completo (excepto 2 ejemplos del 2) ha reconocido a iris versicolor. Sin embargo ha incluido también 14 ejemplos de iris virginica. El resto de iris virginica se ha asignado al cluster 2. Los resultados son bastante aceptables, aunque mejorables."
   ]
  }
 ],
 "metadata": {
  "kernelspec": {
   "display_name": "Python 3",
   "language": "python",
   "name": "python3"
  },
  "language_info": {
   "codemirror_mode": {
    "name": "ipython",
    "version": 3
   },
   "file_extension": ".py",
   "mimetype": "text/x-python",
   "name": "python",
   "nbconvert_exporter": "python",
   "pygments_lexer": "ipython3",
   "version": "3.7.3"
  }
 },
 "nbformat": 4,
 "nbformat_minor": 2
}
